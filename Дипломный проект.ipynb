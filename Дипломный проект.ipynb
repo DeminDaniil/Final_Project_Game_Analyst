{
 "cells": [
  {
   "cell_type": "markdown",
   "id": "b0a970f1",
   "metadata": {},
   "source": [
    "# Импорт библиотек"
   ]
  },
  {
   "cell_type": "code",
   "execution_count": 1,
   "id": "f511addd",
   "metadata": {},
   "outputs": [],
   "source": [
    "import pandas as pd\n",
    "import numpy as np\n",
    "import matplotlib.pyplot as plt\n",
    "import seaborn as sns\n",
    "from wordcloud import WordCloud\n",
    "import missingno as msno\n"
   ]
  },
  {
   "cell_type": "markdown",
   "id": "dd6663cc",
   "metadata": {},
   "source": [
    "# Импорт библиотек для проверки на стат значимость"
   ]
  },
  {
   "cell_type": "code",
   "execution_count": 2,
   "id": "e1d954c7",
   "metadata": {},
   "outputs": [],
   "source": [
    "from scipy import stats\n",
    "from scipy.stats import ttest_ind, ttest_1samp, shapiro, levene, mannwhitneyu, pearsonr, \\\n",
    "spearmanr, kendalltau, f_oneway, kruskal\n"
   ]
  },
  {
   "cell_type": "markdown",
   "id": "5068ff90",
   "metadata": {},
   "source": [
    "### Параметр отображения всех столбцов"
   ]
  },
  {
   "cell_type": "code",
   "execution_count": 3,
   "id": "0ac47fc4",
   "metadata": {},
   "outputs": [],
   "source": [
    "pd.set_option('display.max_columns', None)"
   ]
  },
  {
   "cell_type": "markdown",
   "id": "eaec7a43",
   "metadata": {},
   "source": [
    "### Чтение документа"
   ]
  },
  {
   "cell_type": "code",
   "execution_count": 4,
   "id": "2225c12c",
   "metadata": {},
   "outputs": [
    {
     "name": "stderr",
     "output_type": "stream",
     "text": [
      "C:\\Users\\user\\anaconda3\\lib\\site-packages\\openpyxl\\worksheet\\_read_only.py:79: UserWarning: Data Validation extension is not supported and will be removed\n",
      "  for idx, row in parser.parse():\n"
     ]
    }
   ],
   "source": [
    "df = pd.read_excel('F:/Рабочий стол/Итоговый проект Нетология/Empires___Puzzles_Whale.xlsx')"
   ]
  },
  {
   "cell_type": "code",
   "execution_count": 5,
   "id": "2eb6d6e2",
   "metadata": {},
   "outputs": [
    {
     "name": "stderr",
     "output_type": "stream",
     "text": [
      "C:\\Users\\user\\anaconda3\\lib\\site-packages\\openpyxl\\worksheet\\_read_only.py:79: UserWarning: Data Validation extension is not supported and will be removed\n",
      "  for idx, row in parser.parse():\n"
     ]
    }
   ],
   "source": [
    "df_non_paying = pd.read_excel('F:/Рабочий стол/Итоговый проект Нетология/Empires___Puzzles_Non-Paying.xlsx')"
   ]
  },
  {
   "cell_type": "code",
   "execution_count": 6,
   "id": "16603003",
   "metadata": {
    "scrolled": false
   },
   "outputs": [
    {
     "data": {
      "text/html": [
       "<div>\n",
       "<style scoped>\n",
       "    .dataframe tbody tr th:only-of-type {\n",
       "        vertical-align: middle;\n",
       "    }\n",
       "\n",
       "    .dataframe tbody tr th {\n",
       "        vertical-align: top;\n",
       "    }\n",
       "\n",
       "    .dataframe thead th {\n",
       "        text-align: right;\n",
       "    }\n",
       "</style>\n",
       "<table border=\"1\" class=\"dataframe\">\n",
       "  <thead>\n",
       "    <tr style=\"text-align: right;\">\n",
       "      <th></th>\n",
       "      <th>Date</th>\n",
       "      <th>Day</th>\n",
       "      <th>Session</th>\n",
       "      <th>Video #</th>\n",
       "      <th>Videolink</th>\n",
       "      <th>Videolength</th>\n",
       "      <th>Timestamp</th>\n",
       "      <th>Timelink</th>\n",
       "      <th>Player Level</th>\n",
       "      <th>Stronghold Level</th>\n",
       "      <th>Tag</th>\n",
       "      <th>Action</th>\n",
       "      <th>Info</th>\n",
       "      <th>Shortage1</th>\n",
       "      <th>Shortage2</th>\n",
       "      <th>Ended1</th>\n",
       "      <th>Ended2</th>\n",
       "      <th>Limits</th>\n",
       "      <th>New Experience</th>\n",
       "      <th>Offer Time</th>\n",
       "      <th>Team Power</th>\n",
       "      <th>Name</th>\n",
       "      <th>Level</th>\n",
       "      <th>Rarity</th>\n",
       "      <th>Stage</th>\n",
       "      <th>Result</th>\n",
       "      <th>Gems</th>\n",
       "      <th>Gems+</th>\n",
       "      <th>Gems-</th>\n",
       "      <th>Gems Balance</th>\n",
       "    </tr>\n",
       "  </thead>\n",
       "  <tbody>\n",
       "    <tr>\n",
       "      <th>0</th>\n",
       "      <td>2020-10-27</td>\n",
       "      <td>1</td>\n",
       "      <td>1</td>\n",
       "      <td>1.1</td>\n",
       "      <td>https://youtu.be/orua1CzWdZU?list=PLTjhk5BwsiV...</td>\n",
       "      <td>00:32:35</td>\n",
       "      <td>00:00:00</td>\n",
       "      <td>NaN</td>\n",
       "      <td>1</td>\n",
       "      <td>1</td>\n",
       "      <td>Idle</td>\n",
       "      <td>Start</td>\n",
       "      <td>Loading</td>\n",
       "      <td>NaN</td>\n",
       "      <td>NaN</td>\n",
       "      <td>NaN</td>\n",
       "      <td>NaN</td>\n",
       "      <td>NaN</td>\n",
       "      <td>NaN</td>\n",
       "      <td>NaN</td>\n",
       "      <td>NaN</td>\n",
       "      <td>NaN</td>\n",
       "      <td>NaN</td>\n",
       "      <td>NaN</td>\n",
       "      <td>NaN</td>\n",
       "      <td>NaN</td>\n",
       "      <td>NaN</td>\n",
       "      <td>0</td>\n",
       "      <td>0</td>\n",
       "      <td>0</td>\n",
       "    </tr>\n",
       "    <tr>\n",
       "      <th>1</th>\n",
       "      <td>2020-10-27</td>\n",
       "      <td>1</td>\n",
       "      <td>1</td>\n",
       "      <td>1.1</td>\n",
       "      <td>https://youtu.be/orua1CzWdZU?list=PLTjhk5BwsiV...</td>\n",
       "      <td>00:32:35</td>\n",
       "      <td>00:00:12</td>\n",
       "      <td>NaN</td>\n",
       "      <td>1</td>\n",
       "      <td>1</td>\n",
       "      <td>Player</td>\n",
       "      <td>Pop-Up</td>\n",
       "      <td>Accept the Terms of Service</td>\n",
       "      <td>NaN</td>\n",
       "      <td>NaN</td>\n",
       "      <td>NaN</td>\n",
       "      <td>NaN</td>\n",
       "      <td>NaN</td>\n",
       "      <td>1.0</td>\n",
       "      <td>NaN</td>\n",
       "      <td>NaN</td>\n",
       "      <td>NaN</td>\n",
       "      <td>NaN</td>\n",
       "      <td>NaN</td>\n",
       "      <td>NaN</td>\n",
       "      <td>NaN</td>\n",
       "      <td>NaN</td>\n",
       "      <td>0</td>\n",
       "      <td>0</td>\n",
       "      <td>0</td>\n",
       "    </tr>\n",
       "    <tr>\n",
       "      <th>2</th>\n",
       "      <td>2020-10-27</td>\n",
       "      <td>1</td>\n",
       "      <td>1</td>\n",
       "      <td>1.1</td>\n",
       "      <td>https://youtu.be/orua1CzWdZU?list=PLTjhk5BwsiV...</td>\n",
       "      <td>00:32:35</td>\n",
       "      <td>00:00:15</td>\n",
       "      <td>NaN</td>\n",
       "      <td>1</td>\n",
       "      <td>1</td>\n",
       "      <td>Campaign</td>\n",
       "      <td>Dialog Start</td>\n",
       "      <td>начало игры, начало истории</td>\n",
       "      <td>NaN</td>\n",
       "      <td>NaN</td>\n",
       "      <td>NaN</td>\n",
       "      <td>NaN</td>\n",
       "      <td>NaN</td>\n",
       "      <td>1.0</td>\n",
       "      <td>NaN</td>\n",
       "      <td>NaN</td>\n",
       "      <td>NaN</td>\n",
       "      <td>NaN</td>\n",
       "      <td>NaN</td>\n",
       "      <td>NaN</td>\n",
       "      <td>NaN</td>\n",
       "      <td>NaN</td>\n",
       "      <td>0</td>\n",
       "      <td>0</td>\n",
       "      <td>0</td>\n",
       "    </tr>\n",
       "    <tr>\n",
       "      <th>3</th>\n",
       "      <td>2020-10-27</td>\n",
       "      <td>1</td>\n",
       "      <td>1</td>\n",
       "      <td>1.1</td>\n",
       "      <td>https://youtu.be/orua1CzWdZU?list=PLTjhk5BwsiV...</td>\n",
       "      <td>00:32:35</td>\n",
       "      <td>00:00:25</td>\n",
       "      <td>NaN</td>\n",
       "      <td>1</td>\n",
       "      <td>1</td>\n",
       "      <td>Campaign</td>\n",
       "      <td>Start Battle</td>\n",
       "      <td>NaN</td>\n",
       "      <td>NaN</td>\n",
       "      <td>NaN</td>\n",
       "      <td>NaN</td>\n",
       "      <td>NaN</td>\n",
       "      <td>NaN</td>\n",
       "      <td>1.0</td>\n",
       "      <td>NaN</td>\n",
       "      <td>NaN</td>\n",
       "      <td>NaN</td>\n",
       "      <td>NaN</td>\n",
       "      <td>NaN</td>\n",
       "      <td>NaN</td>\n",
       "      <td>NaN</td>\n",
       "      <td>NaN</td>\n",
       "      <td>0</td>\n",
       "      <td>0</td>\n",
       "      <td>0</td>\n",
       "    </tr>\n",
       "    <tr>\n",
       "      <th>4</th>\n",
       "      <td>2020-10-27</td>\n",
       "      <td>1</td>\n",
       "      <td>1</td>\n",
       "      <td>1.1</td>\n",
       "      <td>https://youtu.be/orua1CzWdZU?list=PLTjhk5BwsiV...</td>\n",
       "      <td>00:32:35</td>\n",
       "      <td>00:00:26</td>\n",
       "      <td>NaN</td>\n",
       "      <td>1</td>\n",
       "      <td>1</td>\n",
       "      <td>Tutorial</td>\n",
       "      <td>Advice about moves</td>\n",
       "      <td>NaN</td>\n",
       "      <td>NaN</td>\n",
       "      <td>NaN</td>\n",
       "      <td>NaN</td>\n",
       "      <td>NaN</td>\n",
       "      <td>NaN</td>\n",
       "      <td>1.0</td>\n",
       "      <td>NaN</td>\n",
       "      <td>NaN</td>\n",
       "      <td>NaN</td>\n",
       "      <td>NaN</td>\n",
       "      <td>NaN</td>\n",
       "      <td>NaN</td>\n",
       "      <td>NaN</td>\n",
       "      <td>NaN</td>\n",
       "      <td>0</td>\n",
       "      <td>0</td>\n",
       "      <td>0</td>\n",
       "    </tr>\n",
       "  </tbody>\n",
       "</table>\n",
       "</div>"
      ],
      "text/plain": [
       "        Date  Day  Session  Video #  \\\n",
       "0 2020-10-27    1        1      1.1   \n",
       "1 2020-10-27    1        1      1.1   \n",
       "2 2020-10-27    1        1      1.1   \n",
       "3 2020-10-27    1        1      1.1   \n",
       "4 2020-10-27    1        1      1.1   \n",
       "\n",
       "                                           Videolink Videolength Timestamp  \\\n",
       "0  https://youtu.be/orua1CzWdZU?list=PLTjhk5BwsiV...    00:32:35  00:00:00   \n",
       "1  https://youtu.be/orua1CzWdZU?list=PLTjhk5BwsiV...    00:32:35  00:00:12   \n",
       "2  https://youtu.be/orua1CzWdZU?list=PLTjhk5BwsiV...    00:32:35  00:00:15   \n",
       "3  https://youtu.be/orua1CzWdZU?list=PLTjhk5BwsiV...    00:32:35  00:00:25   \n",
       "4  https://youtu.be/orua1CzWdZU?list=PLTjhk5BwsiV...    00:32:35  00:00:26   \n",
       "\n",
       "   Timelink  Player Level  Stronghold Level       Tag              Action  \\\n",
       "0       NaN             1                 1      Idle               Start   \n",
       "1       NaN             1                 1    Player              Pop-Up   \n",
       "2       NaN             1                 1  Campaign        Dialog Start   \n",
       "3       NaN             1                 1  Campaign        Start Battle   \n",
       "4       NaN             1                 1  Tutorial  Advice about moves   \n",
       "\n",
       "                          Info Shortage1 Shortage2 Ended1 Ended2 Limits  \\\n",
       "0                      Loading       NaN       NaN    NaN    NaN    NaN   \n",
       "1  Accept the Terms of Service       NaN       NaN    NaN    NaN    NaN   \n",
       "2  начало игры, начало истории       NaN       NaN    NaN    NaN    NaN   \n",
       "3                          NaN       NaN       NaN    NaN    NaN    NaN   \n",
       "4                          NaN       NaN       NaN    NaN    NaN    NaN   \n",
       "\n",
       "   New Experience Offer Time  Team Power Name Level  Rarity Stage Result  \\\n",
       "0             NaN        NaN         NaN  NaN   NaN     NaN   NaN    NaN   \n",
       "1             1.0        NaN         NaN  NaN   NaN     NaN   NaN    NaN   \n",
       "2             1.0        NaN         NaN  NaN   NaN     NaN   NaN    NaN   \n",
       "3             1.0        NaN         NaN  NaN   NaN     NaN   NaN    NaN   \n",
       "4             1.0        NaN         NaN  NaN   NaN     NaN   NaN    NaN   \n",
       "\n",
       "   Gems  Gems+  Gems-  Gems Balance  \n",
       "0   NaN      0      0             0  \n",
       "1   NaN      0      0             0  \n",
       "2   NaN      0      0             0  \n",
       "3   NaN      0      0             0  \n",
       "4   NaN      0      0             0  "
      ]
     },
     "execution_count": 6,
     "metadata": {},
     "output_type": "execute_result"
    }
   ],
   "source": [
    "df.head()"
   ]
  },
  {
   "cell_type": "code",
   "execution_count": 7,
   "id": "1ae69c38",
   "metadata": {},
   "outputs": [
    {
     "data": {
      "text/html": [
       "<div>\n",
       "<style scoped>\n",
       "    .dataframe tbody tr th:only-of-type {\n",
       "        vertical-align: middle;\n",
       "    }\n",
       "\n",
       "    .dataframe tbody tr th {\n",
       "        vertical-align: top;\n",
       "    }\n",
       "\n",
       "    .dataframe thead th {\n",
       "        text-align: right;\n",
       "    }\n",
       "</style>\n",
       "<table border=\"1\" class=\"dataframe\">\n",
       "  <thead>\n",
       "    <tr style=\"text-align: right;\">\n",
       "      <th></th>\n",
       "      <th>Date</th>\n",
       "      <th>Day</th>\n",
       "      <th>Session</th>\n",
       "      <th>Video #</th>\n",
       "      <th>Videolink</th>\n",
       "      <th>Videolength</th>\n",
       "      <th>Timestamp</th>\n",
       "      <th>Timelink</th>\n",
       "      <th>Player Level</th>\n",
       "      <th>Stronghold Level</th>\n",
       "      <th>Tag</th>\n",
       "      <th>Action</th>\n",
       "      <th>Info</th>\n",
       "      <th>Shortage1</th>\n",
       "      <th>Shortage2</th>\n",
       "      <th>Shortage3</th>\n",
       "      <th>Ended1</th>\n",
       "      <th>Ended2</th>\n",
       "      <th>Limits</th>\n",
       "      <th>New expirience</th>\n",
       "      <th>Offer Time</th>\n",
       "      <th>Team Power</th>\n",
       "      <th>Name</th>\n",
       "      <th>Level</th>\n",
       "      <th>Rarity</th>\n",
       "      <th>Stage2</th>\n",
       "      <th>Provimce</th>\n",
       "      <th>Stage</th>\n",
       "      <th>Result</th>\n",
       "      <th>Gems</th>\n",
       "      <th>Gems+</th>\n",
       "      <th>Gems-</th>\n",
       "      <th>Gems Balance</th>\n",
       "    </tr>\n",
       "  </thead>\n",
       "  <tbody>\n",
       "    <tr>\n",
       "      <th>0</th>\n",
       "      <td>2020-10-14</td>\n",
       "      <td>1</td>\n",
       "      <td>1</td>\n",
       "      <td>1.1</td>\n",
       "      <td>https://youtu.be/fee6_4ikGMw?list=PLTjhk5BwsiV...</td>\n",
       "      <td>01:02:17</td>\n",
       "      <td>00:00:00</td>\n",
       "      <td>00:00:00</td>\n",
       "      <td>1.0</td>\n",
       "      <td>1</td>\n",
       "      <td>Idle</td>\n",
       "      <td>Start</td>\n",
       "      <td>NaN</td>\n",
       "      <td>NaN</td>\n",
       "      <td>NaN</td>\n",
       "      <td>NaN</td>\n",
       "      <td>NaN</td>\n",
       "      <td>NaN</td>\n",
       "      <td>NaN</td>\n",
       "      <td>NaN</td>\n",
       "      <td>NaN</td>\n",
       "      <td>NaN</td>\n",
       "      <td>NaN</td>\n",
       "      <td>NaN</td>\n",
       "      <td>NaN</td>\n",
       "      <td>NaN</td>\n",
       "      <td>NaN</td>\n",
       "      <td>NaN</td>\n",
       "      <td>NaN</td>\n",
       "      <td>NaN</td>\n",
       "      <td>0</td>\n",
       "      <td>0</td>\n",
       "      <td>0</td>\n",
       "    </tr>\n",
       "    <tr>\n",
       "      <th>1</th>\n",
       "      <td>2020-10-14</td>\n",
       "      <td>1</td>\n",
       "      <td>1</td>\n",
       "      <td>1.1</td>\n",
       "      <td>https://youtu.be/fee6_4ikGMw?list=PLTjhk5BwsiV...</td>\n",
       "      <td>01:02:17</td>\n",
       "      <td>00:00:21</td>\n",
       "      <td>00:00:21</td>\n",
       "      <td>1.0</td>\n",
       "      <td>1</td>\n",
       "      <td>Player</td>\n",
       "      <td>Privacy Policy</td>\n",
       "      <td>NaN</td>\n",
       "      <td>NaN</td>\n",
       "      <td>NaN</td>\n",
       "      <td>NaN</td>\n",
       "      <td>NaN</td>\n",
       "      <td>NaN</td>\n",
       "      <td>NaN</td>\n",
       "      <td>NaN</td>\n",
       "      <td>NaN</td>\n",
       "      <td>NaN</td>\n",
       "      <td>NaN</td>\n",
       "      <td>NaN</td>\n",
       "      <td>NaN</td>\n",
       "      <td>NaN</td>\n",
       "      <td>NaN</td>\n",
       "      <td>NaN</td>\n",
       "      <td>NaN</td>\n",
       "      <td>NaN</td>\n",
       "      <td>0</td>\n",
       "      <td>0</td>\n",
       "      <td>0</td>\n",
       "    </tr>\n",
       "    <tr>\n",
       "      <th>2</th>\n",
       "      <td>2020-10-14</td>\n",
       "      <td>1</td>\n",
       "      <td>1</td>\n",
       "      <td>1.1</td>\n",
       "      <td>https://youtu.be/fee6_4ikGMw?list=PLTjhk5BwsiV...</td>\n",
       "      <td>01:02:17</td>\n",
       "      <td>00:00:21</td>\n",
       "      <td>00:00:21</td>\n",
       "      <td>1.0</td>\n",
       "      <td>1</td>\n",
       "      <td>Campaign</td>\n",
       "      <td>Dialog Start</td>\n",
       "      <td>NaN</td>\n",
       "      <td>NaN</td>\n",
       "      <td>NaN</td>\n",
       "      <td>NaN</td>\n",
       "      <td>NaN</td>\n",
       "      <td>NaN</td>\n",
       "      <td>NaN</td>\n",
       "      <td>NaN</td>\n",
       "      <td>NaN</td>\n",
       "      <td>NaN</td>\n",
       "      <td>NaN</td>\n",
       "      <td>NaN</td>\n",
       "      <td>NaN</td>\n",
       "      <td>NaN</td>\n",
       "      <td>NaN</td>\n",
       "      <td>NaN</td>\n",
       "      <td>NaN</td>\n",
       "      <td>NaN</td>\n",
       "      <td>0</td>\n",
       "      <td>0</td>\n",
       "      <td>0</td>\n",
       "    </tr>\n",
       "    <tr>\n",
       "      <th>3</th>\n",
       "      <td>2020-10-14</td>\n",
       "      <td>1</td>\n",
       "      <td>1</td>\n",
       "      <td>1.1</td>\n",
       "      <td>https://youtu.be/fee6_4ikGMw?list=PLTjhk5BwsiV...</td>\n",
       "      <td>01:02:17</td>\n",
       "      <td>00:00:35</td>\n",
       "      <td>00:00:35</td>\n",
       "      <td>1.0</td>\n",
       "      <td>1</td>\n",
       "      <td>Campaign</td>\n",
       "      <td>Start Battle</td>\n",
       "      <td>NaN</td>\n",
       "      <td>NaN</td>\n",
       "      <td>NaN</td>\n",
       "      <td>NaN</td>\n",
       "      <td>NaN</td>\n",
       "      <td>NaN</td>\n",
       "      <td>NaN</td>\n",
       "      <td>1</td>\n",
       "      <td>NaN</td>\n",
       "      <td>NaN</td>\n",
       "      <td>NaN</td>\n",
       "      <td>NaN</td>\n",
       "      <td>NaN</td>\n",
       "      <td>NaN</td>\n",
       "      <td>NaN</td>\n",
       "      <td>NaN</td>\n",
       "      <td>NaN</td>\n",
       "      <td>NaN</td>\n",
       "      <td>0</td>\n",
       "      <td>0</td>\n",
       "      <td>0</td>\n",
       "    </tr>\n",
       "    <tr>\n",
       "      <th>4</th>\n",
       "      <td>2020-10-14</td>\n",
       "      <td>1</td>\n",
       "      <td>1</td>\n",
       "      <td>1.1</td>\n",
       "      <td>https://youtu.be/fee6_4ikGMw?list=PLTjhk5BwsiV...</td>\n",
       "      <td>01:02:17</td>\n",
       "      <td>00:00:37</td>\n",
       "      <td>00:00:37</td>\n",
       "      <td>1.0</td>\n",
       "      <td>1</td>\n",
       "      <td>Tutorial</td>\n",
       "      <td>Advice about moves</td>\n",
       "      <td>NaN</td>\n",
       "      <td>NaN</td>\n",
       "      <td>NaN</td>\n",
       "      <td>NaN</td>\n",
       "      <td>NaN</td>\n",
       "      <td>NaN</td>\n",
       "      <td>NaN</td>\n",
       "      <td>1</td>\n",
       "      <td>NaN</td>\n",
       "      <td>NaN</td>\n",
       "      <td>NaN</td>\n",
       "      <td>NaN</td>\n",
       "      <td>NaN</td>\n",
       "      <td>NaN</td>\n",
       "      <td>NaN</td>\n",
       "      <td>NaN</td>\n",
       "      <td>NaN</td>\n",
       "      <td>NaN</td>\n",
       "      <td>0</td>\n",
       "      <td>0</td>\n",
       "      <td>0</td>\n",
       "    </tr>\n",
       "  </tbody>\n",
       "</table>\n",
       "</div>"
      ],
      "text/plain": [
       "        Date  Day  Session  Video #  \\\n",
       "0 2020-10-14    1        1      1.1   \n",
       "1 2020-10-14    1        1      1.1   \n",
       "2 2020-10-14    1        1      1.1   \n",
       "3 2020-10-14    1        1      1.1   \n",
       "4 2020-10-14    1        1      1.1   \n",
       "\n",
       "                                           Videolink Videolength Timestamp  \\\n",
       "0  https://youtu.be/fee6_4ikGMw?list=PLTjhk5BwsiV...    01:02:17  00:00:00   \n",
       "1  https://youtu.be/fee6_4ikGMw?list=PLTjhk5BwsiV...    01:02:17  00:00:21   \n",
       "2  https://youtu.be/fee6_4ikGMw?list=PLTjhk5BwsiV...    01:02:17  00:00:21   \n",
       "3  https://youtu.be/fee6_4ikGMw?list=PLTjhk5BwsiV...    01:02:17  00:00:35   \n",
       "4  https://youtu.be/fee6_4ikGMw?list=PLTjhk5BwsiV...    01:02:17  00:00:37   \n",
       "\n",
       "   Timelink  Player Level  Stronghold Level       Tag              Action  \\\n",
       "0  00:00:00           1.0                 1      Idle               Start   \n",
       "1  00:00:21           1.0                 1    Player      Privacy Policy   \n",
       "2  00:00:21           1.0                 1  Campaign        Dialog Start   \n",
       "3  00:00:35           1.0                 1  Campaign        Start Battle   \n",
       "4  00:00:37           1.0                 1  Tutorial  Advice about moves   \n",
       "\n",
       "  Info Shortage1 Shortage2 Shortage3 Ended1 Ended2 Limits New expirience  \\\n",
       "0  NaN       NaN       NaN       NaN    NaN    NaN    NaN            NaN   \n",
       "1  NaN       NaN       NaN       NaN    NaN    NaN    NaN            NaN   \n",
       "2  NaN       NaN       NaN       NaN    NaN    NaN    NaN            NaN   \n",
       "3  NaN       NaN       NaN       NaN    NaN    NaN    NaN              1   \n",
       "4  NaN       NaN       NaN       NaN    NaN    NaN    NaN              1   \n",
       "\n",
       "  Offer Time  Team Power Name Level  Rarity Stage2  Provimce  Stage Result  \\\n",
       "0        NaN         NaN  NaN   NaN     NaN    NaN       NaN    NaN    NaN   \n",
       "1        NaN         NaN  NaN   NaN     NaN    NaN       NaN    NaN    NaN   \n",
       "2        NaN         NaN  NaN   NaN     NaN    NaN       NaN    NaN    NaN   \n",
       "3        NaN         NaN  NaN   NaN     NaN    NaN       NaN    NaN    NaN   \n",
       "4        NaN         NaN  NaN   NaN     NaN    NaN       NaN    NaN    NaN   \n",
       "\n",
       "   Gems  Gems+  Gems-  Gems Balance  \n",
       "0   NaN      0      0             0  \n",
       "1   NaN      0      0             0  \n",
       "2   NaN      0      0             0  \n",
       "3   NaN      0      0             0  \n",
       "4   NaN      0      0             0  "
      ]
     },
     "execution_count": 7,
     "metadata": {},
     "output_type": "execute_result"
    }
   ],
   "source": [
    "df_non_paying.head()"
   ]
  },
  {
   "cell_type": "code",
   "execution_count": 8,
   "id": "5a5800db",
   "metadata": {
    "scrolled": true
   },
   "outputs": [
    {
     "name": "stdout",
     "output_type": "stream",
     "text": [
      "<class 'pandas.core.frame.DataFrame'>\n",
      "RangeIndex: 10380 entries, 0 to 10379\n",
      "Data columns (total 30 columns):\n",
      " #   Column            Non-Null Count  Dtype         \n",
      "---  ------            --------------  -----         \n",
      " 0   Date              10380 non-null  datetime64[ns]\n",
      " 1   Day               10380 non-null  int64         \n",
      " 2   Session           10380 non-null  int64         \n",
      " 3   Video #           10380 non-null  float64       \n",
      " 4   Videolink         10380 non-null  object        \n",
      " 5   Videolength       10380 non-null  object        \n",
      " 6   Timestamp         10380 non-null  object        \n",
      " 7   Timelink          0 non-null      float64       \n",
      " 8   Player Level      10380 non-null  int64         \n",
      " 9   Stronghold Level  10380 non-null  int64         \n",
      " 10  Tag               10378 non-null  object        \n",
      " 11  Action            10378 non-null  object        \n",
      " 12  Info              2405 non-null   object        \n",
      " 13  Shortage1         301 non-null    object        \n",
      " 14  Shortage2         15 non-null     object        \n",
      " 15  Ended1            379 non-null    object        \n",
      " 16  Ended2            10 non-null     object        \n",
      " 17  Limits            153 non-null    object        \n",
      " 18  New Experience    218 non-null    float64       \n",
      " 19  Offer Time        236 non-null    object        \n",
      " 20  Team Power        761 non-null    float64       \n",
      " 21  Name              2317 non-null   object        \n",
      " 22  Level             1636 non-null   object        \n",
      " 23  Rarity            1102 non-null   float64       \n",
      " 24  Stage             594 non-null    object        \n",
      " 25  Result            681 non-null    object        \n",
      " 26  Gems              356 non-null    float64       \n",
      " 27  Gems+             10380 non-null  int64         \n",
      " 28  Gems-             10380 non-null  int64         \n",
      " 29  Gems Balance      10380 non-null  int64         \n",
      "dtypes: datetime64[ns](1), float64(6), int64(7), object(16)\n",
      "memory usage: 2.4+ MB\n"
     ]
    }
   ],
   "source": [
    "df.info()"
   ]
  },
  {
   "cell_type": "code",
   "execution_count": 9,
   "id": "14e6c3a9",
   "metadata": {
    "scrolled": true
   },
   "outputs": [
    {
     "name": "stdout",
     "output_type": "stream",
     "text": [
      "<class 'pandas.core.frame.DataFrame'>\n",
      "RangeIndex: 8457 entries, 0 to 8456\n",
      "Data columns (total 33 columns):\n",
      " #   Column            Non-Null Count  Dtype         \n",
      "---  ------            --------------  -----         \n",
      " 0   Date              8457 non-null   datetime64[ns]\n",
      " 1   Day               8457 non-null   int64         \n",
      " 2   Session           8457 non-null   int64         \n",
      " 3   Video #           8457 non-null   float64       \n",
      " 4   Videolink         8457 non-null   object        \n",
      " 5   Videolength       8457 non-null   object        \n",
      " 6   Timestamp         8457 non-null   object        \n",
      " 7   Timelink          8457 non-null   object        \n",
      " 8   Player Level      8454 non-null   float64       \n",
      " 9   Stronghold Level  8457 non-null   int64         \n",
      " 10  Tag               8457 non-null   object        \n",
      " 11  Action            8457 non-null   object        \n",
      " 12  Info              2464 non-null   object        \n",
      " 13  Shortage1         311 non-null    object        \n",
      " 14  Shortage2         30 non-null     object        \n",
      " 15  Shortage3         16 non-null     object        \n",
      " 16  Ended1            251 non-null    object        \n",
      " 17  Ended2            8 non-null      object        \n",
      " 18  Limits            120 non-null    object        \n",
      " 19  New expirience    144 non-null    object        \n",
      " 20  Offer Time        348 non-null    object        \n",
      " 21  Team Power        597 non-null    float64       \n",
      " 22  Name              1129 non-null   object        \n",
      " 23  Level             666 non-null    object        \n",
      " 24  Rarity            353 non-null    float64       \n",
      " 25  Stage2            568 non-null    object        \n",
      " 26  Provimce          451 non-null    float64       \n",
      " 27  Stage             450 non-null    float64       \n",
      " 28  Result            610 non-null    object        \n",
      " 29  Gems              129 non-null    float64       \n",
      " 30  Gems+             8457 non-null   int64         \n",
      " 31  Gems-             8457 non-null   int64         \n",
      " 32  Gems Balance      8457 non-null   int64         \n",
      "dtypes: datetime64[ns](1), float64(7), int64(6), object(19)\n",
      "memory usage: 2.1+ MB\n"
     ]
    }
   ],
   "source": [
    "df_non_paying.info()"
   ]
  },
  {
   "cell_type": "code",
   "execution_count": 10,
   "id": "ff0abaeb",
   "metadata": {},
   "outputs": [],
   "source": [
    "df.replace(['nan'], np.NaN, inplace = True)\n",
    "df_non_paying.replace(['nan'], np.NaN, inplace = True)\n",
    "# Сразу заменим все некорректные nan"
   ]
  },
  {
   "cell_type": "code",
   "execution_count": 11,
   "id": "a4a33b89",
   "metadata": {},
   "outputs": [
    {
     "data": {
      "text/plain": [
       "<Axes: >"
      ]
     },
     "execution_count": 11,
     "metadata": {},
     "output_type": "execute_result"
    },
    {
     "data": {
      "image/png": "[encoded data removed]",
      "text/plain": [
       "<Figure size 2500x1000 with 3 Axes>"
      ]
     },
     "metadata": {},
     "output_type": "display_data"
    }
   ],
   "source": [
    "msno.bar(df_non_paying)"
   ]
  },
  {
   "cell_type": "markdown",
   "id": "e31794c5",
   "metadata": {},
   "source": [
    "## В чем разница между 3 разными Shortage и 2 Stage?"
   ]
  },
  {
   "cell_type": "code",
   "execution_count": 12,
   "id": "a1a63272",
   "metadata": {},
   "outputs": [
    {
     "data": {
      "text/html": [
       "<div>\n",
       "<style scoped>\n",
       "    .dataframe tbody tr th:only-of-type {\n",
       "        vertical-align: middle;\n",
       "    }\n",
       "\n",
       "    .dataframe tbody tr th {\n",
       "        vertical-align: top;\n",
       "    }\n",
       "\n",
       "    .dataframe thead th {\n",
       "        text-align: right;\n",
       "    }\n",
       "</style>\n",
       "<table border=\"1\" class=\"dataframe\">\n",
       "  <thead>\n",
       "    <tr style=\"text-align: right;\">\n",
       "      <th></th>\n",
       "      <th>Stage</th>\n",
       "      <th>Stage2</th>\n",
       "    </tr>\n",
       "  </thead>\n",
       "  <tbody>\n",
       "    <tr>\n",
       "      <th>8200</th>\n",
       "      <td>1.0</td>\n",
       "      <td>5-1</td>\n",
       "    </tr>\n",
       "    <tr>\n",
       "      <th>8203</th>\n",
       "      <td>2.0</td>\n",
       "      <td>5-2</td>\n",
       "    </tr>\n",
       "    <tr>\n",
       "      <th>8204</th>\n",
       "      <td>2.0</td>\n",
       "      <td>5-2</td>\n",
       "    </tr>\n",
       "    <tr>\n",
       "      <th>8227</th>\n",
       "      <td>1.0</td>\n",
       "      <td>9-1</td>\n",
       "    </tr>\n",
       "    <tr>\n",
       "      <th>8228</th>\n",
       "      <td>1.0</td>\n",
       "      <td>9-1</td>\n",
       "    </tr>\n",
       "  </tbody>\n",
       "</table>\n",
       "</div>"
      ],
      "text/plain": [
       "      Stage Stage2\n",
       "8200    1.0    5-1\n",
       "8203    2.0    5-2\n",
       "8204    2.0    5-2\n",
       "8227    1.0    9-1\n",
       "8228    1.0    9-1"
      ]
     },
     "execution_count": 12,
     "metadata": {},
     "output_type": "execute_result"
    }
   ],
   "source": [
    "df_non_paying[['Stage', 'Stage2']].dropna().tail()"
   ]
  },
  {
   "cell_type": "code",
   "execution_count": 13,
   "id": "b27a63b1",
   "metadata": {},
   "outputs": [
    {
     "data": {
      "text/html": [
       "<div>\n",
       "<style scoped>\n",
       "    .dataframe tbody tr th:only-of-type {\n",
       "        vertical-align: middle;\n",
       "    }\n",
       "\n",
       "    .dataframe tbody tr th {\n",
       "        vertical-align: top;\n",
       "    }\n",
       "\n",
       "    .dataframe thead th {\n",
       "        text-align: right;\n",
       "    }\n",
       "</style>\n",
       "<table border=\"1\" class=\"dataframe\">\n",
       "  <thead>\n",
       "    <tr style=\"text-align: right;\">\n",
       "      <th></th>\n",
       "      <th>Stage</th>\n",
       "    </tr>\n",
       "  </thead>\n",
       "  <tbody>\n",
       "    <tr>\n",
       "      <th>10326</th>\n",
       "      <td>17-1</td>\n",
       "    </tr>\n",
       "    <tr>\n",
       "      <th>10328</th>\n",
       "      <td>2-3-5</td>\n",
       "    </tr>\n",
       "    <tr>\n",
       "      <th>10329</th>\n",
       "      <td>2-3-5</td>\n",
       "    </tr>\n",
       "    <tr>\n",
       "      <th>10338</th>\n",
       "      <td>12-5</td>\n",
       "    </tr>\n",
       "    <tr>\n",
       "      <th>10339</th>\n",
       "      <td>12-5</td>\n",
       "    </tr>\n",
       "  </tbody>\n",
       "</table>\n",
       "</div>"
      ],
      "text/plain": [
       "       Stage\n",
       "10326   17-1\n",
       "10328  2-3-5\n",
       "10329  2-3-5\n",
       "10338   12-5\n",
       "10339   12-5"
      ]
     },
     "execution_count": 13,
     "metadata": {},
     "output_type": "execute_result"
    }
   ],
   "source": [
    "df[['Stage']].dropna().tail()"
   ]
  },
  {
   "cell_type": "markdown",
   "id": "bf030adc",
   "metadata": {},
   "source": [
    "## Не понимаю зачем нужен обычный Stage в датасете неплатящего пользователя. Удалю его и переименую Stage2 в Stage"
   ]
  },
  {
   "cell_type": "code",
   "execution_count": 14,
   "id": "c2e75ea0",
   "metadata": {},
   "outputs": [],
   "source": [
    "df_non_paying.drop(columns = 'Stage', inplace = True)\n",
    "df_non_paying.rename(columns={'Stage2': 'Stage'}, inplace = True)"
   ]
  },
  {
   "cell_type": "code",
   "execution_count": 15,
   "id": "3b762c48",
   "metadata": {
    "scrolled": true
   },
   "outputs": [
    {
     "data": {
      "text/html": [
       "<div>\n",
       "<style scoped>\n",
       "    .dataframe tbody tr th:only-of-type {\n",
       "        vertical-align: middle;\n",
       "    }\n",
       "\n",
       "    .dataframe tbody tr th {\n",
       "        vertical-align: top;\n",
       "    }\n",
       "\n",
       "    .dataframe thead th {\n",
       "        text-align: right;\n",
       "    }\n",
       "</style>\n",
       "<table border=\"1\" class=\"dataframe\">\n",
       "  <thead>\n",
       "    <tr style=\"text-align: right;\">\n",
       "      <th></th>\n",
       "      <th>Stage</th>\n",
       "    </tr>\n",
       "  </thead>\n",
       "  <tbody>\n",
       "    <tr>\n",
       "      <th>61</th>\n",
       "      <td>1-1</td>\n",
       "    </tr>\n",
       "    <tr>\n",
       "      <th>63</th>\n",
       "      <td>1-1</td>\n",
       "    </tr>\n",
       "    <tr>\n",
       "      <th>73</th>\n",
       "      <td>1-2</td>\n",
       "    </tr>\n",
       "    <tr>\n",
       "      <th>74</th>\n",
       "      <td>1-2</td>\n",
       "    </tr>\n",
       "    <tr>\n",
       "      <th>90</th>\n",
       "      <td>1-3</td>\n",
       "    </tr>\n",
       "    <tr>\n",
       "      <th>...</th>\n",
       "      <td>...</td>\n",
       "    </tr>\n",
       "    <tr>\n",
       "      <th>8341</th>\n",
       "      <td>20</td>\n",
       "    </tr>\n",
       "    <tr>\n",
       "      <th>8348</th>\n",
       "      <td>20</td>\n",
       "    </tr>\n",
       "    <tr>\n",
       "      <th>8349</th>\n",
       "      <td>20</td>\n",
       "    </tr>\n",
       "    <tr>\n",
       "      <th>8351</th>\n",
       "      <td>1</td>\n",
       "    </tr>\n",
       "    <tr>\n",
       "      <th>8352</th>\n",
       "      <td>1</td>\n",
       "    </tr>\n",
       "  </tbody>\n",
       "</table>\n",
       "<p>568 rows × 1 columns</p>\n",
       "</div>"
      ],
      "text/plain": [
       "     Stage\n",
       "61     1-1\n",
       "63     1-1\n",
       "73     1-2\n",
       "74     1-2\n",
       "90     1-3\n",
       "...    ...\n",
       "8341    20\n",
       "8348    20\n",
       "8349    20\n",
       "8351     1\n",
       "8352     1\n",
       "\n",
       "[568 rows x 1 columns]"
      ]
     },
     "execution_count": 15,
     "metadata": {},
     "output_type": "execute_result"
    }
   ],
   "source": [
    "df_non_paying[['Stage']].dropna()"
   ]
  },
  {
   "cell_type": "markdown",
   "id": "5164d08d",
   "metadata": {},
   "source": [
    "# Также переименую колонку New expirience в New Experience как в другом датафрейме"
   ]
  },
  {
   "cell_type": "code",
   "execution_count": 16,
   "id": "4de0fe60",
   "metadata": {},
   "outputs": [],
   "source": [
    "df_non_paying.rename(columns={'New expirience': 'New Experience'}, inplace = True)"
   ]
  },
  {
   "cell_type": "code",
   "execution_count": 17,
   "id": "2ef667a3",
   "metadata": {},
   "outputs": [
    {
     "data": {
      "text/plain": [
       "array([nan, 'Hero Level'], dtype=object)"
      ]
     },
     "execution_count": 17,
     "metadata": {},
     "output_type": "execute_result"
    }
   ],
   "source": [
    "df_non_paying['Shortage3'].unique()"
   ]
  },
  {
   "cell_type": "code",
   "execution_count": 18,
   "id": "dadf99ed",
   "metadata": {},
   "outputs": [
    {
     "data": {
      "text/html": [
       "<div>\n",
       "<style scoped>\n",
       "    .dataframe tbody tr th:only-of-type {\n",
       "        vertical-align: middle;\n",
       "    }\n",
       "\n",
       "    .dataframe tbody tr th {\n",
       "        vertical-align: top;\n",
       "    }\n",
       "\n",
       "    .dataframe thead th {\n",
       "        text-align: right;\n",
       "    }\n",
       "</style>\n",
       "<table border=\"1\" class=\"dataframe\">\n",
       "  <thead>\n",
       "    <tr style=\"text-align: right;\">\n",
       "      <th></th>\n",
       "      <th>Provimce</th>\n",
       "    </tr>\n",
       "  </thead>\n",
       "  <tbody>\n",
       "    <tr>\n",
       "      <th>63</th>\n",
       "      <td>1.0</td>\n",
       "    </tr>\n",
       "    <tr>\n",
       "      <th>73</th>\n",
       "      <td>1.0</td>\n",
       "    </tr>\n",
       "    <tr>\n",
       "      <th>74</th>\n",
       "      <td>1.0</td>\n",
       "    </tr>\n",
       "    <tr>\n",
       "      <th>90</th>\n",
       "      <td>1.0</td>\n",
       "    </tr>\n",
       "    <tr>\n",
       "      <th>92</th>\n",
       "      <td>1.0</td>\n",
       "    </tr>\n",
       "    <tr>\n",
       "      <th>...</th>\n",
       "      <td>...</td>\n",
       "    </tr>\n",
       "    <tr>\n",
       "      <th>8200</th>\n",
       "      <td>5.0</td>\n",
       "    </tr>\n",
       "    <tr>\n",
       "      <th>8203</th>\n",
       "      <td>5.0</td>\n",
       "    </tr>\n",
       "    <tr>\n",
       "      <th>8204</th>\n",
       "      <td>5.0</td>\n",
       "    </tr>\n",
       "    <tr>\n",
       "      <th>8227</th>\n",
       "      <td>9.0</td>\n",
       "    </tr>\n",
       "    <tr>\n",
       "      <th>8228</th>\n",
       "      <td>9.0</td>\n",
       "    </tr>\n",
       "  </tbody>\n",
       "</table>\n",
       "<p>451 rows × 1 columns</p>\n",
       "</div>"
      ],
      "text/plain": [
       "      Provimce\n",
       "63         1.0\n",
       "73         1.0\n",
       "74         1.0\n",
       "90         1.0\n",
       "92         1.0\n",
       "...        ...\n",
       "8200       5.0\n",
       "8203       5.0\n",
       "8204       5.0\n",
       "8227       9.0\n",
       "8228       9.0\n",
       "\n",
       "[451 rows x 1 columns]"
      ]
     },
     "execution_count": 18,
     "metadata": {},
     "output_type": "execute_result"
    }
   ],
   "source": [
    "df_non_paying[['Provimce']].dropna()"
   ]
  },
  {
   "cell_type": "markdown",
   "id": "70d28d9d",
   "metadata": {},
   "source": [
    "### Отбрасываю столбцы, которые не потребуются для анализа"
   ]
  },
  {
   "cell_type": "code",
   "execution_count": 19,
   "id": "f3f3cc28",
   "metadata": {},
   "outputs": [
    {
     "ename": "KeyError",
     "evalue": "\"['InfoShortage2'] not found in axis\"",
     "output_type": "error",
     "traceback": [
      "\u001b[1;31m---------------------------------------------------------------------------\u001b[0m",
      "\u001b[1;31mKeyError\u001b[0m                                  Traceback (most recent call last)",
      "Cell \u001b[1;32mIn[19], line 1\u001b[0m\n\u001b[1;32m----> 1\u001b[0m \u001b[43mdf_non_paying\u001b[49m\u001b[38;5;241;43m.\u001b[39;49m\u001b[43mdrop\u001b[49m\u001b[43m(\u001b[49m\u001b[43mcolumns\u001b[49m\u001b[43m \u001b[49m\u001b[38;5;241;43m=\u001b[39;49m\u001b[43m \u001b[49m\u001b[43m[\u001b[49m\u001b[38;5;124;43m'\u001b[39;49m\u001b[38;5;124;43mVideo #\u001b[39;49m\u001b[38;5;124;43m'\u001b[39;49m\u001b[43m,\u001b[49m\u001b[43m \u001b[49m\u001b[38;5;124;43m'\u001b[39;49m\u001b[38;5;124;43mVideolink\u001b[39;49m\u001b[38;5;124;43m'\u001b[39;49m\u001b[43m,\u001b[49m\u001b[43m \u001b[49m\u001b[38;5;124;43m'\u001b[39;49m\u001b[38;5;124;43mVideolength\u001b[39;49m\u001b[38;5;124;43m'\u001b[39;49m\u001b[43m,\u001b[49m\u001b[43m \u001b[49m\u001b[38;5;124;43m'\u001b[39;49m\u001b[38;5;124;43mTimestamp\u001b[39;49m\u001b[38;5;124;43m'\u001b[39;49m\u001b[43m,\u001b[49m\u001b[43m \u001b[49m\u001b[38;5;124;43m'\u001b[39;49m\u001b[38;5;124;43mTimelink\u001b[39;49m\u001b[38;5;124;43m'\u001b[39;49m\u001b[43m,\u001b[49m\u001b[43m \u001b[49m\u001b[38;5;124;43m'\u001b[39;49m\u001b[38;5;124;43mInfo\u001b[39;49m\u001b[38;5;124;43m'\u001b[39;49m\n\u001b[0;32m      2\u001b[0m \u001b[43m                              \u001b[49m\u001b[38;5;124;43m'\u001b[39;49m\u001b[38;5;124;43mShortage2\u001b[39;49m\u001b[38;5;124;43m'\u001b[39;49m\u001b[43m,\u001b[49m\u001b[43m \u001b[49m\u001b[38;5;124;43m'\u001b[39;49m\u001b[38;5;124;43mShortage3\u001b[39;49m\u001b[38;5;124;43m'\u001b[39;49m\u001b[43m,\u001b[49m\u001b[43m \u001b[49m\u001b[38;5;124;43m'\u001b[39;49m\u001b[38;5;124;43mEnded2\u001b[39;49m\u001b[38;5;124;43m'\u001b[39;49m\u001b[43m,\u001b[49m\u001b[43m \u001b[49m\u001b[38;5;124;43m'\u001b[39;49m\u001b[38;5;124;43mProvimce\u001b[39;49m\u001b[38;5;124;43m'\u001b[39;49m\u001b[43m,\u001b[49m\u001b[43m \u001b[49m\u001b[38;5;124;43m'\u001b[39;49m\u001b[38;5;124;43mLimits\u001b[39;49m\u001b[38;5;124;43m'\u001b[39;49m\u001b[43m,\u001b[49m\u001b[43m \u001b[49m\u001b[38;5;124;43m'\u001b[39;49m\u001b[38;5;124;43mOffer Time\u001b[39;49m\u001b[38;5;124;43m'\u001b[39;49m\u001b[43m,\u001b[49m\u001b[43m \u001b[49m\u001b[38;5;124;43m'\u001b[39;49m\u001b[38;5;124;43mInfo\u001b[39;49m\u001b[38;5;124;43m'\u001b[39;49m\u001b[43m]\u001b[49m\u001b[43m,\u001b[49m\u001b[43m \u001b[49m\u001b[43minplace\u001b[49m\u001b[43m \u001b[49m\u001b[38;5;241;43m=\u001b[39;49m\u001b[43m \u001b[49m\u001b[38;5;28;43;01mTrue\u001b[39;49;00m\u001b[43m)\u001b[49m\n\u001b[0;32m      3\u001b[0m df\u001b[38;5;241m.\u001b[39mdrop(columns \u001b[38;5;241m=\u001b[39m [\u001b[38;5;124m'\u001b[39m\u001b[38;5;124mVideo #\u001b[39m\u001b[38;5;124m'\u001b[39m, \u001b[38;5;124m'\u001b[39m\u001b[38;5;124mVideolink\u001b[39m\u001b[38;5;124m'\u001b[39m, \u001b[38;5;124m'\u001b[39m\u001b[38;5;124mVideolength\u001b[39m\u001b[38;5;124m'\u001b[39m, \u001b[38;5;124m'\u001b[39m\u001b[38;5;124mTimestamp\u001b[39m\u001b[38;5;124m'\u001b[39m, \u001b[38;5;124m'\u001b[39m\u001b[38;5;124mTimelink\u001b[39m\u001b[38;5;124m'\u001b[39m],inplace \u001b[38;5;241m=\u001b[39m \u001b[38;5;28;01mTrue\u001b[39;00m)\n",
      "File \u001b[1;32m~\\anaconda3\\lib\\site-packages\\pandas\\util\\_decorators.py:331\u001b[0m, in \u001b[0;36mdeprecate_nonkeyword_arguments.<locals>.decorate.<locals>.wrapper\u001b[1;34m(*args, **kwargs)\u001b[0m\n\u001b[0;32m    325\u001b[0m \u001b[38;5;28;01mif\u001b[39;00m \u001b[38;5;28mlen\u001b[39m(args) \u001b[38;5;241m>\u001b[39m num_allow_args:\n\u001b[0;32m    326\u001b[0m     warnings\u001b[38;5;241m.\u001b[39mwarn(\n\u001b[0;32m    327\u001b[0m         msg\u001b[38;5;241m.\u001b[39mformat(arguments\u001b[38;5;241m=\u001b[39m_format_argument_list(allow_args)),\n\u001b[0;32m    328\u001b[0m         \u001b[38;5;167;01mFutureWarning\u001b[39;00m,\n\u001b[0;32m    329\u001b[0m         stacklevel\u001b[38;5;241m=\u001b[39mfind_stack_level(),\n\u001b[0;32m    330\u001b[0m     )\n\u001b[1;32m--> 331\u001b[0m \u001b[38;5;28;01mreturn\u001b[39;00m func(\u001b[38;5;241m*\u001b[39margs, \u001b[38;5;241m*\u001b[39m\u001b[38;5;241m*\u001b[39mkwargs)\n",
      "File \u001b[1;32m~\\anaconda3\\lib\\site-packages\\pandas\\core\\frame.py:5399\u001b[0m, in \u001b[0;36mDataFrame.drop\u001b[1;34m(self, labels, axis, index, columns, level, inplace, errors)\u001b[0m\n\u001b[0;32m   5251\u001b[0m \u001b[38;5;129m@deprecate_nonkeyword_arguments\u001b[39m(version\u001b[38;5;241m=\u001b[39m\u001b[38;5;28;01mNone\u001b[39;00m, allowed_args\u001b[38;5;241m=\u001b[39m[\u001b[38;5;124m\"\u001b[39m\u001b[38;5;124mself\u001b[39m\u001b[38;5;124m\"\u001b[39m, \u001b[38;5;124m\"\u001b[39m\u001b[38;5;124mlabels\u001b[39m\u001b[38;5;124m\"\u001b[39m])\n\u001b[0;32m   5252\u001b[0m \u001b[38;5;28;01mdef\u001b[39;00m \u001b[38;5;21mdrop\u001b[39m(  \u001b[38;5;66;03m# type: ignore[override]\u001b[39;00m\n\u001b[0;32m   5253\u001b[0m     \u001b[38;5;28mself\u001b[39m,\n\u001b[1;32m   (...)\u001b[0m\n\u001b[0;32m   5260\u001b[0m     errors: IgnoreRaise \u001b[38;5;241m=\u001b[39m \u001b[38;5;124m\"\u001b[39m\u001b[38;5;124mraise\u001b[39m\u001b[38;5;124m\"\u001b[39m,\n\u001b[0;32m   5261\u001b[0m ) \u001b[38;5;241m-\u001b[39m\u001b[38;5;241m>\u001b[39m DataFrame \u001b[38;5;241m|\u001b[39m \u001b[38;5;28;01mNone\u001b[39;00m:\n\u001b[0;32m   5262\u001b[0m     \u001b[38;5;124;03m\"\"\"\u001b[39;00m\n\u001b[0;32m   5263\u001b[0m \u001b[38;5;124;03m    Drop specified labels from rows or columns.\u001b[39;00m\n\u001b[0;32m   5264\u001b[0m \n\u001b[1;32m   (...)\u001b[0m\n\u001b[0;32m   5397\u001b[0m \u001b[38;5;124;03m            weight  1.0     0.8\u001b[39;00m\n\u001b[0;32m   5398\u001b[0m \u001b[38;5;124;03m    \"\"\"\u001b[39;00m\n\u001b[1;32m-> 5399\u001b[0m     \u001b[38;5;28;01mreturn\u001b[39;00m \u001b[38;5;28;43msuper\u001b[39;49m\u001b[43m(\u001b[49m\u001b[43m)\u001b[49m\u001b[38;5;241;43m.\u001b[39;49m\u001b[43mdrop\u001b[49m\u001b[43m(\u001b[49m\n\u001b[0;32m   5400\u001b[0m \u001b[43m        \u001b[49m\u001b[43mlabels\u001b[49m\u001b[38;5;241;43m=\u001b[39;49m\u001b[43mlabels\u001b[49m\u001b[43m,\u001b[49m\n\u001b[0;32m   5401\u001b[0m \u001b[43m        \u001b[49m\u001b[43maxis\u001b[49m\u001b[38;5;241;43m=\u001b[39;49m\u001b[43maxis\u001b[49m\u001b[43m,\u001b[49m\n\u001b[0;32m   5402\u001b[0m \u001b[43m        \u001b[49m\u001b[43mindex\u001b[49m\u001b[38;5;241;43m=\u001b[39;49m\u001b[43mindex\u001b[49m\u001b[43m,\u001b[49m\n\u001b[0;32m   5403\u001b[0m \u001b[43m        \u001b[49m\u001b[43mcolumns\u001b[49m\u001b[38;5;241;43m=\u001b[39;49m\u001b[43mcolumns\u001b[49m\u001b[43m,\u001b[49m\n\u001b[0;32m   5404\u001b[0m \u001b[43m        \u001b[49m\u001b[43mlevel\u001b[49m\u001b[38;5;241;43m=\u001b[39;49m\u001b[43mlevel\u001b[49m\u001b[43m,\u001b[49m\n\u001b[0;32m   5405\u001b[0m \u001b[43m        \u001b[49m\u001b[43minplace\u001b[49m\u001b[38;5;241;43m=\u001b[39;49m\u001b[43minplace\u001b[49m\u001b[43m,\u001b[49m\n\u001b[0;32m   5406\u001b[0m \u001b[43m        \u001b[49m\u001b[43merrors\u001b[49m\u001b[38;5;241;43m=\u001b[39;49m\u001b[43merrors\u001b[49m\u001b[43m,\u001b[49m\n\u001b[0;32m   5407\u001b[0m \u001b[43m    \u001b[49m\u001b[43m)\u001b[49m\n",
      "File \u001b[1;32m~\\anaconda3\\lib\\site-packages\\pandas\\util\\_decorators.py:331\u001b[0m, in \u001b[0;36mdeprecate_nonkeyword_arguments.<locals>.decorate.<locals>.wrapper\u001b[1;34m(*args, **kwargs)\u001b[0m\n\u001b[0;32m    325\u001b[0m \u001b[38;5;28;01mif\u001b[39;00m \u001b[38;5;28mlen\u001b[39m(args) \u001b[38;5;241m>\u001b[39m num_allow_args:\n\u001b[0;32m    326\u001b[0m     warnings\u001b[38;5;241m.\u001b[39mwarn(\n\u001b[0;32m    327\u001b[0m         msg\u001b[38;5;241m.\u001b[39mformat(arguments\u001b[38;5;241m=\u001b[39m_format_argument_list(allow_args)),\n\u001b[0;32m    328\u001b[0m         \u001b[38;5;167;01mFutureWarning\u001b[39;00m,\n\u001b[0;32m    329\u001b[0m         stacklevel\u001b[38;5;241m=\u001b[39mfind_stack_level(),\n\u001b[0;32m    330\u001b[0m     )\n\u001b[1;32m--> 331\u001b[0m \u001b[38;5;28;01mreturn\u001b[39;00m func(\u001b[38;5;241m*\u001b[39margs, \u001b[38;5;241m*\u001b[39m\u001b[38;5;241m*\u001b[39mkwargs)\n",
      "File \u001b[1;32m~\\anaconda3\\lib\\site-packages\\pandas\\core\\generic.py:4505\u001b[0m, in \u001b[0;36mNDFrame.drop\u001b[1;34m(self, labels, axis, index, columns, level, inplace, errors)\u001b[0m\n\u001b[0;32m   4503\u001b[0m \u001b[38;5;28;01mfor\u001b[39;00m axis, labels \u001b[38;5;129;01min\u001b[39;00m axes\u001b[38;5;241m.\u001b[39mitems():\n\u001b[0;32m   4504\u001b[0m     \u001b[38;5;28;01mif\u001b[39;00m labels \u001b[38;5;129;01mis\u001b[39;00m \u001b[38;5;129;01mnot\u001b[39;00m \u001b[38;5;28;01mNone\u001b[39;00m:\n\u001b[1;32m-> 4505\u001b[0m         obj \u001b[38;5;241m=\u001b[39m \u001b[43mobj\u001b[49m\u001b[38;5;241;43m.\u001b[39;49m\u001b[43m_drop_axis\u001b[49m\u001b[43m(\u001b[49m\u001b[43mlabels\u001b[49m\u001b[43m,\u001b[49m\u001b[43m \u001b[49m\u001b[43maxis\u001b[49m\u001b[43m,\u001b[49m\u001b[43m \u001b[49m\u001b[43mlevel\u001b[49m\u001b[38;5;241;43m=\u001b[39;49m\u001b[43mlevel\u001b[49m\u001b[43m,\u001b[49m\u001b[43m \u001b[49m\u001b[43merrors\u001b[49m\u001b[38;5;241;43m=\u001b[39;49m\u001b[43merrors\u001b[49m\u001b[43m)\u001b[49m\n\u001b[0;32m   4507\u001b[0m \u001b[38;5;28;01mif\u001b[39;00m inplace:\n\u001b[0;32m   4508\u001b[0m     \u001b[38;5;28mself\u001b[39m\u001b[38;5;241m.\u001b[39m_update_inplace(obj)\n",
      "File \u001b[1;32m~\\anaconda3\\lib\\site-packages\\pandas\\core\\generic.py:4546\u001b[0m, in \u001b[0;36mNDFrame._drop_axis\u001b[1;34m(self, labels, axis, level, errors, only_slice)\u001b[0m\n\u001b[0;32m   4544\u001b[0m         new_axis \u001b[38;5;241m=\u001b[39m axis\u001b[38;5;241m.\u001b[39mdrop(labels, level\u001b[38;5;241m=\u001b[39mlevel, errors\u001b[38;5;241m=\u001b[39merrors)\n\u001b[0;32m   4545\u001b[0m     \u001b[38;5;28;01melse\u001b[39;00m:\n\u001b[1;32m-> 4546\u001b[0m         new_axis \u001b[38;5;241m=\u001b[39m \u001b[43maxis\u001b[49m\u001b[38;5;241;43m.\u001b[39;49m\u001b[43mdrop\u001b[49m\u001b[43m(\u001b[49m\u001b[43mlabels\u001b[49m\u001b[43m,\u001b[49m\u001b[43m \u001b[49m\u001b[43merrors\u001b[49m\u001b[38;5;241;43m=\u001b[39;49m\u001b[43merrors\u001b[49m\u001b[43m)\u001b[49m\n\u001b[0;32m   4547\u001b[0m     indexer \u001b[38;5;241m=\u001b[39m axis\u001b[38;5;241m.\u001b[39mget_indexer(new_axis)\n\u001b[0;32m   4549\u001b[0m \u001b[38;5;66;03m# Case for non-unique axis\u001b[39;00m\n\u001b[0;32m   4550\u001b[0m \u001b[38;5;28;01melse\u001b[39;00m:\n",
      "File \u001b[1;32m~\\anaconda3\\lib\\site-packages\\pandas\\core\\indexes\\base.py:6934\u001b[0m, in \u001b[0;36mIndex.drop\u001b[1;34m(self, labels, errors)\u001b[0m\n\u001b[0;32m   6932\u001b[0m \u001b[38;5;28;01mif\u001b[39;00m mask\u001b[38;5;241m.\u001b[39many():\n\u001b[0;32m   6933\u001b[0m     \u001b[38;5;28;01mif\u001b[39;00m errors \u001b[38;5;241m!=\u001b[39m \u001b[38;5;124m\"\u001b[39m\u001b[38;5;124mignore\u001b[39m\u001b[38;5;124m\"\u001b[39m:\n\u001b[1;32m-> 6934\u001b[0m         \u001b[38;5;28;01mraise\u001b[39;00m \u001b[38;5;167;01mKeyError\u001b[39;00m(\u001b[38;5;124mf\u001b[39m\u001b[38;5;124m\"\u001b[39m\u001b[38;5;132;01m{\u001b[39;00m\u001b[38;5;28mlist\u001b[39m(labels[mask])\u001b[38;5;132;01m}\u001b[39;00m\u001b[38;5;124m not found in axis\u001b[39m\u001b[38;5;124m\"\u001b[39m)\n\u001b[0;32m   6935\u001b[0m     indexer \u001b[38;5;241m=\u001b[39m indexer[\u001b[38;5;241m~\u001b[39mmask]\n\u001b[0;32m   6936\u001b[0m \u001b[38;5;28;01mreturn\u001b[39;00m \u001b[38;5;28mself\u001b[39m\u001b[38;5;241m.\u001b[39mdelete(indexer)\n",
      "\u001b[1;31mKeyError\u001b[0m: \"['InfoShortage2'] not found in axis\""
     ]
    }
   ],
   "source": [
    "df_non_paying.drop(columns = ['Video #', 'Videolink', 'Videolength', 'Timestamp', 'Timelink', 'Info'\n",
    "                              'Shortage2', 'Shortage3', 'Ended2', 'Provimce', 'Limits', 'Offer Time', 'Info'], inplace = True)\n",
    "df.drop(columns = ['Video #', 'Videolink', 'Videolength', 'Timestamp', 'Timelink'],inplace = True)"
   ]
  },
  {
   "cell_type": "code",
   "execution_count": null,
   "id": "460999b6",
   "metadata": {},
   "outputs": [],
   "source": [
    "#df['Info'] = df['Info'].astype(str)"
   ]
  },
  {
   "cell_type": "code",
   "execution_count": null,
   "id": "618c6374",
   "metadata": {
    "scrolled": true
   },
   "outputs": [],
   "source": [
    "df.isnull().sum()"
   ]
  },
  {
   "cell_type": "code",
   "execution_count": null,
   "id": "bc08a05c",
   "metadata": {
    "scrolled": true
   },
   "outputs": [],
   "source": [
    "df_non_paying.isnull().sum()"
   ]
  },
  {
   "cell_type": "code",
   "execution_count": null,
   "id": "a95e70d9",
   "metadata": {},
   "outputs": [],
   "source": [
    "df_non_paying[['Player Level']].dropna()\n",
    "df_non_paying[df_non_paying['Player Level'].isnull()]"
   ]
  },
  {
   "cell_type": "code",
   "execution_count": null,
   "id": "4d215091",
   "metadata": {
    "scrolled": true
   },
   "outputs": [],
   "source": [
    "df_non_paying.loc[df_non_paying.index > 2184]"
   ]
  },
  {
   "cell_type": "markdown",
   "id": "1c215573",
   "metadata": {},
   "source": [
    "## Т.к. на предыдущих и следущих строках уровень игрока равняется 7, чтобы не удалять эти строки, просто поставлю уровень игрока 7"
   ]
  },
  {
   "cell_type": "code",
   "execution_count": null,
   "id": "df8f35f7",
   "metadata": {},
   "outputs": [],
   "source": [
    "df_non_paying.fillna({'Player Level': 7}, inplace=True)"
   ]
  },
  {
   "cell_type": "code",
   "execution_count": null,
   "id": "df35329a",
   "metadata": {
    "scrolled": true
   },
   "outputs": [],
   "source": [
    "df_non_paying.loc[df_non_paying.index > 2184]"
   ]
  },
  {
   "cell_type": "code",
   "execution_count": null,
   "id": "ff4fd50d",
   "metadata": {
    "scrolled": true
   },
   "outputs": [],
   "source": [
    "df_non_paying.isnull().sum()"
   ]
  },
  {
   "cell_type": "markdown",
   "id": "e5b0506d",
   "metadata": {},
   "source": [
    "## Преобразуем Player Level в int64"
   ]
  },
  {
   "cell_type": "code",
   "execution_count": null,
   "id": "efa5e661",
   "metadata": {},
   "outputs": [],
   "source": [
    "df['Player Level'] = df['Player Level'].astype('int64')\n",
    "df_non_paying['Player Level'] = df_non_paying['Player Level'].astype('int64')"
   ]
  },
  {
   "cell_type": "markdown",
   "id": "151df074",
   "metadata": {},
   "source": [
    "### Проверим 2 пустых ячейки для столбцов Tag и Action"
   ]
  },
  {
   "cell_type": "code",
   "execution_count": null,
   "id": "444dde0b",
   "metadata": {},
   "outputs": [],
   "source": [
    "df.loc[df['Tag'].isnull()]"
   ]
  },
  {
   "cell_type": "code",
   "execution_count": null,
   "id": "4cc53ba5",
   "metadata": {},
   "outputs": [],
   "source": [
    "df.iloc[4945:4950]"
   ]
  },
  {
   "cell_type": "code",
   "execution_count": null,
   "id": "40a6dde8",
   "metadata": {},
   "outputs": [],
   "source": [
    "df.iloc[6664:6668]"
   ]
  },
  {
   "cell_type": "markdown",
   "id": "0fa37123",
   "metadata": {},
   "source": [
    "### Т.к. в этих строках нет чего-либо отличительного, то я их удалю"
   ]
  },
  {
   "cell_type": "code",
   "execution_count": null,
   "id": "d39f2586",
   "metadata": {},
   "outputs": [],
   "source": [
    "df.drop(index = [4947, 6666], inplace = True)"
   ]
  },
  {
   "cell_type": "code",
   "execution_count": null,
   "id": "e7ac8c34",
   "metadata": {
    "scrolled": false
   },
   "outputs": [],
   "source": [
    "msno.bar(df)"
   ]
  },
  {
   "cell_type": "markdown",
   "id": "0e10c7d6",
   "metadata": {},
   "source": [
    "### Для следующих визуализаций я буду использовать колонки Shortage1 и Ended1, после чего удалю из-за большого количества пропусков, вторые их колонки не буду использовать из-за очень малого количества не самых важных данных"
   ]
  },
  {
   "cell_type": "markdown",
   "id": "232dbfc5",
   "metadata": {},
   "source": [
    "# Проверка на выбросы и их анализ"
   ]
  },
  {
   "cell_type": "code",
   "execution_count": null,
   "id": "3c909ac1",
   "metadata": {},
   "outputs": [],
   "source": [
    "plt.figure(figsize = (15,6))\n",
    "df.boxplot()"
   ]
  },
  {
   "cell_type": "code",
   "execution_count": null,
   "id": "e5818db3",
   "metadata": {
    "scrolled": true
   },
   "outputs": [],
   "source": [
    "df.loc[df['Gems-'] < -8000]"
   ]
  },
  {
   "cell_type": "code",
   "execution_count": null,
   "id": "8f1de2cd",
   "metadata": {},
   "outputs": [],
   "source": [
    "df.loc[df['Action'] == 'Atlantis Summon']"
   ]
  },
  {
   "cell_type": "code",
   "execution_count": null,
   "id": "2988d81a",
   "metadata": {},
   "outputs": [],
   "source": [
    "df.loc[(df.index > 7264) & (df.index < 7270)]"
   ]
  },
  {
   "cell_type": "code",
   "execution_count": null,
   "id": "0fd4a15b",
   "metadata": {},
   "outputs": [],
   "source": [
    "df.loc[(df.index > 8178) & (df.index < 8185)]"
   ]
  },
  {
   "cell_type": "markdown",
   "id": "2e6d9616",
   "metadata": {},
   "source": [
    "### Выброс на трату гемов обоснован. Игрок тратил большое количество гемов дважды на призыв персонажей из акции Atlantis Summon, оттого и низкие показатели Gems и Gems-"
   ]
  },
  {
   "cell_type": "code",
   "execution_count": null,
   "id": "c0743bdf",
   "metadata": {},
   "outputs": [],
   "source": [
    "df.loc[df['Gems Balance'] > 15000]"
   ]
  },
  {
   "cell_type": "markdown",
   "id": "345b21fa",
   "metadata": {},
   "source": [
    "### Выброс на баланс гемов обоснован. Игрок разово приобрел акцию 10000 Gems за 99.99 долларов, отчего параметр сильно возрос. В остальном ничего критичного"
   ]
  },
  {
   "cell_type": "code",
   "execution_count": null,
   "id": "9337beb3",
   "metadata": {},
   "outputs": [],
   "source": [
    "plt.figure(figsize = (15,6))\n",
    "df_non_paying.boxplot()"
   ]
  },
  {
   "cell_type": "code",
   "execution_count": null,
   "id": "561fd40f",
   "metadata": {},
   "outputs": [],
   "source": [
    "df_non_paying.loc[df_non_paying['Gems-'] < -250]"
   ]
  },
  {
   "cell_type": "code",
   "execution_count": null,
   "id": "5d85ac72",
   "metadata": {},
   "outputs": [],
   "source": [
    "df_non_paying.loc[(df_non_paying.index > 6707) & (df_non_paying.index < 6715)]"
   ]
  },
  {
   "cell_type": "markdown",
   "id": "de537b81",
   "metadata": {},
   "source": [
    "### Выброс на трату гемов обоснован. Игрок потратил все 350 гемов, которые у него были на балансе, на призыв героя из акции Valhalla Summon. В остальном ничего критичного"
   ]
  },
  {
   "cell_type": "markdown",
   "id": "005615e9",
   "metadata": {},
   "source": [
    "# Расчеты"
   ]
  },
  {
   "cell_type": "code",
   "execution_count": null,
   "id": "02a1008a",
   "metadata": {},
   "outputs": [],
   "source": [
    "print(f'Количество сессий платящего пользователя {df[\"Session\"].nunique()}')\n",
    "print(f'Количество сессий не платящего пользователя {df_non_paying[\"Session\"].nunique()}')"
   ]
  },
  {
   "cell_type": "code",
   "execution_count": null,
   "id": "f7c0a9d9",
   "metadata": {},
   "outputs": [],
   "source": [
    "viewed_ads = len(df[(df['Tag'] == 'Mystic Vision') & (df['Action'] == 'Finish')])\n",
    "viewed_ads2 = len(df_non_paying[(df_non_paying['Tag'] == 'Mystic Vision') & \n",
    "                                (df_non_paying['Action'] == 'Finish')])\n",
    "print('Количество просмотренной рекламы платящего игрока', viewed_ads)\n",
    "print('Количество просмотренной рекламы не платящего игрока', viewed_ads2)"
   ]
  },
  {
   "cell_type": "code",
   "execution_count": null,
   "id": "43556926",
   "metadata": {},
   "outputs": [],
   "source": [
    "сompleted_raids = len(df[(df['Tag'] == 'Raid') & (df['Action'] == 'Finish Battle')])\n",
    "сompleted_raids2 = len(df_non_paying[(df_non_paying['Tag'] == 'Raid') &\n",
    "                                     (df_non_paying['Action'] == 'Finish Battle')])\n",
    "print('Количество рейдов платящего игрока', сompleted_raids)\n",
    "print('Количество рейдов не платящего игрока', сompleted_raids2)"
   ]
  },
  {
   "cell_type": "code",
   "execution_count": null,
   "id": "e31ff737",
   "metadata": {},
   "outputs": [],
   "source": [
    "viewed_summon = len(df[(df['Tag'] == 'Summon') & (df['Action'] == 'Start')])\n",
    "viewed_summon2 = len(df_non_paying[(df_non_paying['Tag'] == 'Summon') & (df_non_paying['Action'] == 'Start')])\n",
    "\n",
    "print('Количество просмоторв призывов платящего игрока', viewed_summon)\n",
    "print('Количество просмоторв призывов не платящего игрока', viewed_summon2)"
   ]
  },
  {
   "cell_type": "code",
   "execution_count": null,
   "id": "8be69547",
   "metadata": {},
   "outputs": [],
   "source": [
    "viewed_event = len(df[(df['Tag'] == 'Event') & (df['Action'] == 'Start')])\n",
    "viewed_event2 = len(df_non_paying[(df_non_paying['Tag'] == 'Event') & (df_non_paying['Action'] == 'Start')])\n",
    "\n",
    "print('Количество просмоторв призывов платящего игрока', viewed_event)\n",
    "print('Количество просмоторв призывов не платящего игрока', viewed_event2)"
   ]
  },
  {
   "cell_type": "code",
   "execution_count": null,
   "id": "fc0f6008",
   "metadata": {},
   "outputs": [],
   "source": [
    "viewed_vip = len(df[(df['Tag'] == 'VIP')])\n",
    "viewed_vip2 = len(df_non_paying[(df_non_paying['Tag'] == 'VIP')])\n",
    "\n",
    "print('Количество просмоторв VIP пропуска платящего игрока', viewed_vip)\n",
    "print('Количество просмоторв VIP пропуска не платящего игрока', viewed_vip2)"
   ]
  },
  {
   "cell_type": "code",
   "execution_count": null,
   "id": "8c53235b",
   "metadata": {},
   "outputs": [],
   "source": [
    "viewed_shop = len(df[(df['Tag'] == 'Shop')])\n",
    "viewed_shop2 = len(df_non_paying[(df_non_paying['Tag'] == 'Shop')])\n",
    "\n",
    "print('Количество просмоторв магазина платящего игрока', viewed_shop)\n",
    "print('Количество просмоторв магазина не платящего игрока', viewed_shop2)"
   ]
  },
  {
   "cell_type": "code",
   "execution_count": null,
   "id": "deed0c01",
   "metadata": {},
   "outputs": [],
   "source": [
    "end_event = len(df[(df['Tag'] == 'Event') & (df['Action'] == 'Finish Battle')])\n",
    "end_event2 = len(df_non_paying[(df_non_paying['Tag'] == 'Event') & (df_non_paying['Action'] == 'Finish Battle')])\n",
    "\n",
    "print('Количество пройденных ивентов платящего игрока', end_event)\n",
    "print('Количество пройденных ивентов не платящего игрока', end_event2)"
   ]
  },
  {
   "cell_type": "markdown",
   "id": "090ebee0",
   "metadata": {},
   "source": [
    "# Визуализация и анализ "
   ]
  },
  {
   "cell_type": "markdown",
   "id": "ab9c4aa8",
   "metadata": {},
   "source": [
    "# Нехватка чего на каждом уровне для каждого пользователя"
   ]
  },
  {
   "cell_type": "code",
   "execution_count": null,
   "id": "3dbc9693",
   "metadata": {
    "scrolled": false
   },
   "outputs": [],
   "source": [
    "# Платящий пользователь\n",
    "table_data = df[['Day', 'Shortage1', 'Player Level']].dropna()\n",
    "pvt_player_level_x_shortage = pd.pivot_table(data = table_data, values = 'Player Level', index = 'Shortage1', columns = ['Player Level'], aggfunc = 'count',\n",
    "              fill_value = 0)\n",
    "pvt_player_level_x_shortage"
   ]
  },
  {
   "cell_type": "markdown",
   "id": "785f50e7",
   "metadata": {},
   "source": [
    "### Рекруты и войска это разное или одно и то же? Для удобства объединю в рекрутов"
   ]
  },
  {
   "cell_type": "code",
   "execution_count": null,
   "id": "37cc4a3a",
   "metadata": {},
   "outputs": [],
   "source": [
    "df['Shortage1'].replace('Troops', 'Recruits', inplace = True)"
   ]
  },
  {
   "cell_type": "code",
   "execution_count": null,
   "id": "6c27a86f",
   "metadata": {},
   "outputs": [],
   "source": [
    "# НЕплатящий пользователь\n",
    "table_data = df_non_paying[['Day', 'Shortage1', 'Player Level']].dropna()\n",
    "pvt_non_paying_player_level_x_shortage = pd.pivot_table(data = table_data, values = 'Player Level', \n",
    "                                                        index = 'Shortage1', columns = ['Player Level'], aggfunc = 'count',\n",
    "                                                        fill_value = 0)\n",
    "pvt_non_paying_player_level_x_shortage"
   ]
  },
  {
   "cell_type": "markdown",
   "id": "337722fa",
   "metadata": {},
   "source": [
    "### Обнаружено, что у неплатящего пользователя была нехватка редких героев? Соединим редких героев с героями"
   ]
  },
  {
   "cell_type": "code",
   "execution_count": null,
   "id": "4c3121a2",
   "metadata": {},
   "outputs": [],
   "source": [
    "df_non_paying['Shortage1'].replace('Rare heroes', 'Heroes', inplace = True)"
   ]
  },
  {
   "cell_type": "code",
   "execution_count": null,
   "id": "38fa9aec",
   "metadata": {},
   "outputs": [],
   "source": [
    "fig = plt.figure(figsize = (20,10))\n",
    "\n",
    "# Платящий игрок\n",
    "ax1 = fig.add_subplot(221)\n",
    "sns.heatmap(data = pvt_player_level_x_shortage, annot = True, ax = ax1)\n",
    "ax1.set_title('Сколько раз нехватало ресурсов на уровнях игрока \\n\\n Платящий игрок', fontweight = 'bold')\n",
    "ax1.set_xlabel('Уровень игрока')\n",
    "ax1.set_ylabel('Ресурс')\n",
    "\n",
    "\n",
    "# НЕплатящий игрок\n",
    "ax2 = fig.add_subplot(223)\n",
    "sns.heatmap(data = pvt_non_paying_player_level_x_shortage, annot = True, ax = ax2)\n",
    "ax2.set_title('НЕплатящий игрок', fontweight = 'bold')\n",
    "ax2.set_xlabel('Уровень игрока')\n",
    "ax2.set_ylabel('Ресурс')\n",
    "plt.show()"
   ]
  },
  {
   "cell_type": "markdown",
   "id": "e3411186",
   "metadata": {},
   "source": [
    "### Можно заметить, что у обоих пользователей пища кончалась довольно часто и неоднократно, но у неплатящего была нехватка аж 34 раза на 9 уровне и 21 на 11. Связано с улучшением героев, т.к. оно требует больше всего пищи?\n",
    "### Что интересно, у неплатящего пользователя нехватка железа была значительно реже, чем у платящего. Связано со скоростью развития?\n",
    "### Да и в целом у платящего игрока нехватка чего-либо была чаще, пусть и не всегда большое количество раз"
   ]
  },
  {
   "cell_type": "markdown",
   "id": "b1fb156a",
   "metadata": {},
   "source": [
    "# Какие ресурсы кончились на каждом уровне"
   ]
  },
  {
   "cell_type": "code",
   "execution_count": null,
   "id": "6f4369f3",
   "metadata": {},
   "outputs": [],
   "source": [
    "# Платящий пользователь\n",
    "table_data = df[['Day', 'Ended1', 'Player Level']].dropna()\n",
    "pvt_player_level_x_ended = pd.pivot_table(data = table_data, values = 'Player Level', index = 'Ended1', columns = ['Player Level'], aggfunc = 'count',\n",
    "              fill_value = 0)\n",
    "pvt_player_level_x_ended"
   ]
  },
  {
   "cell_type": "code",
   "execution_count": null,
   "id": "a85e42ef",
   "metadata": {},
   "outputs": [],
   "source": [
    "# НЕплатящий пользователь\n",
    "table_data = df_non_paying[['Day', 'Ended1', 'Player Level']].dropna()\n",
    "pvt_non_paying_player_level_x_ended = pd.pivot_table(data = table_data, values = 'Player Level', index = 'Ended1', columns = ['Player Level'], aggfunc = 'count',\n",
    "              fill_value = 0)\n",
    "pvt_non_paying_player_level_x_ended"
   ]
  },
  {
   "cell_type": "code",
   "execution_count": null,
   "id": "15eb2d1b",
   "metadata": {},
   "outputs": [],
   "source": [
    "fig = plt.figure(figsize = (20,10))\n",
    "\n",
    "#Платящий игрок\n",
    "ax1 = fig.add_subplot(221)\n",
    "sns.heatmap(data = pvt_player_level_x_ended, annot = True, cmap = 'mako', ax = ax1)\n",
    "ax1.set_title('Сколько раз кончались ресурсы на уровнях игрока \\n\\n Платящий игрок', fontweight = 'bold')\n",
    "ax1.set_xlabel('Уровень игрока')\n",
    "ax1.set_ylabel('Ресурс')\n",
    "\n",
    "\n",
    "#НЕплатящий игрок\n",
    "ax2 = fig.add_subplot(223)\n",
    "sns.heatmap(data = pvt_non_paying_player_level_x_ended, annot = True, cmap = 'mako', ax = ax2)\n",
    "ax2.set_title('НЕплатящий игрок', fontweight = 'bold')\n",
    "ax2.set_xlabel('Уровень игрока')\n",
    "ax2.set_ylabel('Ресурс')\n",
    "plt.show()"
   ]
  },
  {
   "cell_type": "markdown",
   "id": "5e9743a4",
   "metadata": {},
   "source": [
    "### Больше всего у обоих игроков кончалась именно энергия. Она кончалась на нескольких уровнях больше, чем что-либо другое. Также относительно часто кончались рекруты и еда.\n",
    "### Зато попытки кончались у платящего игрока лишь один раз, у неплатящего же ни разу, как и гемы. Это может говорить о том, что баланс требуемых попыток и их восполнения хорошо сбалансированны"
   ]
  },
  {
   "cell_type": "markdown",
   "id": "71bef400",
   "metadata": {},
   "source": [
    "# Получение нового опыта"
   ]
  },
  {
   "cell_type": "code",
   "execution_count": null,
   "id": "f8690cc8",
   "metadata": {
    "scrolled": true
   },
   "outputs": [],
   "source": [
    "# Платящий игрок\n",
    "table_data = df[['Player Level', 'New Experience', 'Tag']].dropna()\n",
    "pvt_player_level_x_newex_tag = pd.pivot_table(data = table_data, values = 'New Experience', index = 'Tag', \n",
    "                                              columns = 'Player Level', aggfunc = 'count',\n",
    "              fill_value = 0)\n",
    "pvt_player_level_x_newex_tag"
   ]
  },
  {
   "cell_type": "code",
   "execution_count": null,
   "id": "a98ee61f",
   "metadata": {
    "scrolled": true
   },
   "outputs": [],
   "source": [
    "# НЕплатящий игрок\n",
    "table_data = df_non_paying[['Player Level', 'New Experience', 'Tag']].dropna()\n",
    "pvt_non_paying_player_level_x_newex_tag = pd.pivot_table(data = table_data, values = 'New Experience', index = 'Tag', \n",
    "                                              columns = 'Player Level', aggfunc = 'count',\n",
    "              fill_value = 0)\n",
    "pvt_non_paying_player_level_x_newex_tag"
   ]
  },
  {
   "cell_type": "code",
   "execution_count": null,
   "id": "e4d71fff",
   "metadata": {},
   "outputs": [],
   "source": [
    "fig = plt.figure(figsize = (25,20))\n",
    "\n",
    "#Платящий игрок\n",
    "ax1 = fig.add_subplot(221)\n",
    "sns.heatmap(data = pvt_player_level_x_newex_tag, annot = True, cmap = 'magma', ax = ax1)\n",
    "ax1.set_title('Количество нового опыта на каждом уровне игрока \\n\\n Платящий игрок', fontweight = 'bold')\n",
    "ax1.set_xlabel('Уровень игрока')\n",
    "ax1.set_ylabel('Активность')\n",
    "\n",
    "\n",
    "#НЕплатящий игрок\n",
    "ax2 = fig.add_subplot(223)\n",
    "sns.heatmap(data = pvt_non_paying_player_level_x_newex_tag, annot = True, cmap = 'magma', ax = ax2)\n",
    "ax2.set_title('НЕплатящий игрок', fontweight = 'bold')\n",
    "ax2.set_xlabel('Уроовень игрока')\n",
    "ax2.set_ylabel('Активность')\n",
    "plt.show()"
   ]
  },
  {
   "cell_type": "markdown",
   "id": "3b1afb60",
   "metadata": {},
   "source": [
    "### Самое большое количество нового опыта оба игрока получают именно на обучении, строительстве и кампании.\n",
    "### У платящего пользователя, в отличие от неплатящего, наблюдается так же большое количество нового опыта за призывы героев\n",
    "### Примечательное отличие, неплатящий игрок получил больше нового опыта за активность в альянсе, нежели платящий\n",
    "### Также насчет ивентов, оба игрока получили к ним доступ на 10 уровне, и если платящий игрок еще получал новый опыт в течение следующих своих уровней, неплатящий ничего не получал"
   ]
  },
  {
   "cell_type": "code",
   "execution_count": null,
   "id": "a68a4df7",
   "metadata": {},
   "outputs": [],
   "source": [
    "df.drop(columns = ['Shortage1', 'Shortage2', 'Ended1', 'Ended2', 'Limits', 'New Experience', 'Offer Time'], inplace = True)\n",
    "#df.drop(columns = ['Gems', 'Gems+', 'Gems-'])"
   ]
  },
  {
   "cell_type": "markdown",
   "id": "94f2bcce",
   "metadata": {},
   "source": [
    "# Попарный анализ параметров"
   ]
  },
  {
   "cell_type": "markdown",
   "id": "cdcf68d7",
   "metadata": {},
   "source": [
    "# Матрица корреляции"
   ]
  },
  {
   "cell_type": "code",
   "execution_count": null,
   "id": "6196209d",
   "metadata": {
    "scrolled": false
   },
   "outputs": [],
   "source": [
    "plt.figure(figsize = (12,6))\n",
    "sns.heatmap(data = df.corr(), annot = True)"
   ]
  },
  {
   "cell_type": "code",
   "execution_count": null,
   "id": "29bdeb9e",
   "metadata": {
    "scrolled": false
   },
   "outputs": [],
   "source": [
    "plt.figure(figsize = (12,6))\n",
    "sns.heatmap(data = df_non_paying.corr(), annot = True)"
   ]
  },
  {
   "cell_type": "markdown",
   "id": "08897300",
   "metadata": {},
   "source": [
    "### Наибольшая корреляция наблюдается между днями и сессиями, уровнями и днями и сессиями, мощью команды и всеми предыдущими параметрами, что вполне логично. Больше играешь - больше уровень, больше сессий, больше мощь"
   ]
  },
  {
   "cell_type": "markdown",
   "id": "f13ae815",
   "metadata": {},
   "source": [
    "# Построение матрицы диаграмм рассеивания"
   ]
  },
  {
   "cell_type": "markdown",
   "id": "45fa3b09",
   "metadata": {},
   "source": [
    "## Платящий пользователь"
   ]
  },
  {
   "cell_type": "code",
   "execution_count": null,
   "id": "cc2bbae9",
   "metadata": {
    "scrolled": false
   },
   "outputs": [],
   "source": [
    "sns.pairplot(df)\n",
    "plt.show()"
   ]
  },
  {
   "cell_type": "markdown",
   "id": "b3fc7480",
   "metadata": {},
   "source": [
    "## Неплатящий пользователь"
   ]
  },
  {
   "cell_type": "code",
   "execution_count": null,
   "id": "c8979e8c",
   "metadata": {
    "scrolled": false
   },
   "outputs": [],
   "source": [
    "sns.pairplot(df_non_paying)\n",
    "plt.show()"
   ]
  },
  {
   "cell_type": "markdown",
   "id": "ec786a36",
   "metadata": {},
   "source": [
    "### Какую-либо линейную зависимость или приближенную к ней можно заметить лишь между такими параметрами, как: День и сессия, день/сессия и уровень игрока, день/сессия/уровень игрока и уровень главного здания и некоторую зависимость день/сессия/уровень игрока/уровень здания и мощь отряда\n",
    "### В принципе, никаких новых открытий после корреляционного анализа"
   ]
  },
  {
   "cell_type": "markdown",
   "id": "0a3565c6",
   "metadata": {},
   "source": [
    "# Мощь отряда"
   ]
  },
  {
   "cell_type": "code",
   "execution_count": null,
   "id": "ceb7f97f",
   "metadata": {},
   "outputs": [],
   "source": [
    "# Платящий игрок\n",
    "lineplot_day_x_team_power = df[['Day', 'Team Power']]\n",
    "lineplot_day_x_team_power\n",
    "sns.lineplot(data = lineplot_day_x_team_power, x = 'Day', y = 'Team Power')\n",
    "\n",
    "# НЕплатящий игрок\n",
    "lineplot_day_x_team_power2 = df_non_paying[['Day', 'Team Power']]\n",
    "sns.lineplot(data = lineplot_day_x_team_power2, x = 'Day', y = 'Team Power', color = 'r')\n",
    "plt.title('График мощи отряда в течение 14 дней')\n",
    "plt.legend(['Платящий', '', 'НЕплатящий'])"
   ]
  },
  {
   "cell_type": "markdown",
   "id": "770badae",
   "metadata": {},
   "source": [
    "## Интересно узнать, почему наблюдается сильный спад мощи с 13 дня"
   ]
  },
  {
   "cell_type": "code",
   "execution_count": null,
   "id": "23db0093",
   "metadata": {},
   "outputs": [],
   "source": [
    "lineplot_day_x_team_power.loc[(lineplot_day_x_team_power['Day'] > 12) & (lineplot_day_x_team_power['Team Power'] < 2500)].dropna()"
   ]
  },
  {
   "cell_type": "code",
   "execution_count": null,
   "id": "d16e1e9b",
   "metadata": {},
   "outputs": [],
   "source": [
    "df.loc[df['Team Power'] < 100]"
   ]
  },
  {
   "cell_type": "markdown",
   "id": "82f64954",
   "metadata": {},
   "source": [
    "## Откуда нулевое и единичное значение мощи?\n",
    "## Оказалось, игра учитывает каждое редактирование отряда, из-за чего при полностью пустом отряде в логах стоит 0. Почему стоит 1 в логах, так и не понял"
   ]
  },
  {
   "cell_type": "code",
   "execution_count": null,
   "id": "03534042",
   "metadata": {},
   "outputs": [],
   "source": [
    "df.loc[df.index > 2515]"
   ]
  },
  {
   "cell_type": "code",
   "execution_count": null,
   "id": "2eb4114a",
   "metadata": {},
   "outputs": [],
   "source": [
    "df['Team Power'].replace([0, 1], np.NaN, inplace = True)\n",
    "df.loc[(df.index == 2517) & (df.index == 9044)]"
   ]
  },
  {
   "cell_type": "code",
   "execution_count": null,
   "id": "915f4f40",
   "metadata": {},
   "outputs": [],
   "source": [
    "df_non_paying['Team Power'].replace([0, 1], np.NaN, inplace = True)"
   ]
  },
  {
   "cell_type": "markdown",
   "id": "e0958aaa",
   "metadata": {},
   "source": [
    "### Т.к. в этих строках содержится и другая полезная информация, а мощь в предыдущих и следующих строках  не меняется, просто заменю значения на NaN"
   ]
  },
  {
   "cell_type": "code",
   "execution_count": null,
   "id": "bbab5734",
   "metadata": {},
   "outputs": [],
   "source": [
    "lineplot_day_x_team_power\n",
    "sns.lineplot(data = lineplot_day_x_team_power, x = 'Day', y = 'Team Power')\n",
    "plt.title('График мощи отряда в течение 14 дней')"
   ]
  },
  {
   "cell_type": "markdown",
   "id": "f3de3498",
   "metadata": {},
   "source": [
    "## Удаление этих строк не изменило график."
   ]
  },
  {
   "cell_type": "code",
   "execution_count": null,
   "id": "58e8232c",
   "metadata": {
    "scrolled": true
   },
   "outputs": [],
   "source": [
    "df.loc[(df['Day'] == 14) & (df['Team Power'] < 3000)]"
   ]
  },
  {
   "cell_type": "markdown",
   "id": "9a60ac5e",
   "metadata": {},
   "source": [
    "## Чуть больше изучив датасет, пришел к выводу, что есть большое количество активностей, под которые игрок может менять состав отряда, из-за чего рост мощи тяжего проследить"
   ]
  },
  {
   "cell_type": "markdown",
   "id": "5584d00e",
   "metadata": {},
   "source": [
    "## Решил избежать других активностей, выбрав только повышение уровня. График стал более плавным и можно заметить как изначально резко повышается мощь в начале игры и дальнее растет плавнее"
   ]
  },
  {
   "cell_type": "code",
   "execution_count": null,
   "id": "4a306069",
   "metadata": {
    "scrolled": false
   },
   "outputs": [],
   "source": [
    "# Платящий игрок\n",
    "lineplot_day_x_team_power = df[['Team Power', 'Day', 'Action']].loc[df['Action'] == 'Level Up']\n",
    "sns.lineplot(data = lineplot_day_x_team_power, x = 'Day', y = 'Team Power')\n",
    "plt.title('График мощи отряда в течение 14 дней')\n",
    "\n",
    "\n",
    "# НЕплатящий игрок\n",
    "lineplot_day_x_team_power2 = df_non_paying[['Team Power', 'Day', 'Action']].loc[df_non_paying['Action'] == 'Level Up']\n",
    "sns.lineplot(data = lineplot_day_x_team_power2, x = 'Day', y = 'Team Power')\n",
    "plt.title('График мощи отряда в течение 14 дней')\n",
    "plt.legend(['Платящий', '', 'НЕплатящий'])"
   ]
  },
  {
   "cell_type": "markdown",
   "id": "107c173e",
   "metadata": {},
   "source": [
    "# Смотрим распределение и проводим тест"
   ]
  },
  {
   "cell_type": "code",
   "execution_count": null,
   "id": "fa33bd2f",
   "metadata": {},
   "outputs": [],
   "source": [
    "# Распределение мощи отряда для платящего пользователя\n",
    "lineplot_day_x_team_power['Team Power'].plot(kind = 'hist')"
   ]
  },
  {
   "cell_type": "code",
   "execution_count": null,
   "id": "cb92181c",
   "metadata": {},
   "outputs": [],
   "source": [
    "# Распределение мощи отряда для платящего пользователя\n",
    "lineplot_day_x_team_power2['Team Power'].plot(kind = 'hist')"
   ]
  },
  {
   "cell_type": "markdown",
   "id": "15908eb0",
   "metadata": {},
   "source": [
    "## Т.к. гистограмма показывает ненормальное распределение и количество пустых значений превышает количество заполненных, я предпочту удалить пустые, вместо того, чтобы заполнять их медианой\n",
    "## Для нестандартного отклонения буду использовать непараметрические тесты"
   ]
  },
  {
   "cell_type": "code",
   "execution_count": null,
   "id": "c6a5cc6f",
   "metadata": {},
   "outputs": [],
   "source": [
    "# Проверка на нормальность распределения\n",
    "median_paying = lineplot_day_x_team_power['Team Power'].median()\n",
    "pvalue = shapiro(lineplot_day_x_team_power['Team Power'].dropna())\n",
    "pvalue2 = shapiro(lineplot_day_x_team_power['Team Power'].fillna(median_paying))\n",
    "print(pvalue,'\\n', pvalue2)"
   ]
  },
  {
   "cell_type": "markdown",
   "id": "030fe41d",
   "metadata": {},
   "source": [
    "### В любом случае, что я удаляю пустые строки, что заполняю их медианой, распределение ненормально, но мне кажется, если я их удалю, я не так сильно искажу данные"
   ]
  },
  {
   "cell_type": "code",
   "execution_count": null,
   "id": "6084eb9f",
   "metadata": {},
   "outputs": [],
   "source": [
    "def stat_tests(sample1, sample2):\n",
    "    \n",
    "    # Непараметрический тест Манна-Уитни\n",
    "    t_stat, p_value = mannwhitneyu(sample1, sample2)\n",
    "    print('Тест Манна-Уитни:\\n Test Stat = %.4f, p-value = %.4f' % (t_stat, p_value),'\\n')\n",
    "    \n",
    "    # Тест Краскелла-Уоллиса\n",
    "    t_stat, p_value = kruskal(sample1, sample2)\n",
    "    print('Тест Краскелла-Уоллиса:\\n Test Stat = %.4f, p-value = %.4f' % (t_stat, p_value),'\\n')\n",
    "    \n",
    "    # Тест Колмогорова-Смирнова\n",
    "    t_stat, p_value = stats.ks_2samp(sample1, sample2)\n",
    "    print('Тест Колмогорова-Смирнова:\\n Test Stat = %.4f, p-value = %.4f' % (t_stat, p_value),'\\n')"
   ]
  },
  {
   "cell_type": "code",
   "execution_count": null,
   "id": "b125dec6",
   "metadata": {},
   "outputs": [],
   "source": [
    "sample1 = lineplot_day_x_team_power['Team Power'].dropna()\n",
    "sample2 = lineplot_day_x_team_power2['Team Power'].dropna()\n",
    "stat_tests(sample1, sample2)"
   ]
  },
  {
   "cell_type": "markdown",
   "id": "bcbdcd1d",
   "metadata": {},
   "source": [
    "### p-value в тесте Манна-Уитни, Краскелла-Уоллиса и Колмогорова-Смирнова равно 0, это свидетельствует о том, что существует статистически значимое различие между распределениями, средними и дисперсиями в двух выборках"
   ]
  },
  {
   "cell_type": "markdown",
   "id": "a173db16",
   "metadata": {},
   "source": [
    "# Количество сессий"
   ]
  },
  {
   "cell_type": "code",
   "execution_count": null,
   "id": "cce921be",
   "metadata": {},
   "outputs": [],
   "source": [
    "df.groupby('Day')['Session'].nunique ()"
   ]
  },
  {
   "cell_type": "code",
   "execution_count": null,
   "id": "109f7e7a",
   "metadata": {},
   "outputs": [],
   "source": [
    "# Платящий игрок\n",
    "lineplot_day_session = df.groupby('Day')['Session'].nunique ()\n",
    "sns.lineplot(data = lineplot_day_session)\n",
    "plt.title('Количество сессий каждый день')\n",
    "plt.ylabel('Количество сессий')\n",
    "plt.xlabel('День')\n",
    "\n",
    "# НЕплатящий игрок\n",
    "lineplot_day_session2 = df_non_paying.groupby('Day')['Session'].nunique ()\n",
    "sns.lineplot(data = lineplot_day_session2)\n",
    "\n",
    "plt.legend(['Платящий', '', 'НЕплатящий'])"
   ]
  },
  {
   "cell_type": "markdown",
   "id": "dbb3f67f",
   "metadata": {},
   "source": [
    "### С первого дня у платящего игрока не менее 3 сессий. Почему-то на 6 день у игрока была лишь одна сессия. Далее он вернулся на прежний уровень, но возможно начался постепенный спад активности\n",
    "### У неплатящего игрока все стабильно. Уже на второй день без каких-либо изменений по 3 сессии в день"
   ]
  },
  {
   "cell_type": "code",
   "execution_count": null,
   "id": "99016efa",
   "metadata": {
    "scrolled": true
   },
   "outputs": [],
   "source": [
    "# Создаю 2 датафрейма на основе датафреймов платящего и неплатящего игрока, чтобы избежать \n",
    "# группировки в датафреймах, которые использовал для визуализации\n",
    "day_session = df[['Day', 'Session']]\n",
    "day_session2 = df_non_paying[['Day', 'Session']]\n",
    "\n",
    "fig = plt.figure(figsize = (10,6))\n",
    "\n",
    "ax1 = fig.add_subplot(221)\n",
    "day_session['Session'].hist(ax = ax1)\n",
    "\n",
    "ax2 = fig.add_subplot(222)\n",
    "day_session2['Session'].hist(ax = ax2)"
   ]
  },
  {
   "cell_type": "code",
   "execution_count": null,
   "id": "7bdf76f6",
   "metadata": {},
   "outputs": [],
   "source": [
    "print(day_session['Day'].isnull().sum())\n",
    "print(day_session['Session'].isnull().sum())"
   ]
  },
  {
   "cell_type": "code",
   "execution_count": null,
   "id": "f85ca783",
   "metadata": {},
   "outputs": [],
   "source": [
    "# Проверка на нормальность распределения\n",
    "pvalue = shapiro(day_session['Session'])\n",
    "pvalue2 = shapiro(day_session2['Session'])\n",
    "print(pvalue,'\\n', pvalue2)\n",
    "\n",
    "# p-value = 0, распределение ненормально"
   ]
  },
  {
   "cell_type": "markdown",
   "id": "93f3ce4a",
   "metadata": {},
   "source": [
    "### Пустые значения отсутсвуют, распределение ненормально, будем использовать непараметрические тесты"
   ]
  },
  {
   "cell_type": "code",
   "execution_count": null,
   "id": "1f59cf66",
   "metadata": {},
   "outputs": [],
   "source": [
    "sample1 = day_session['Session']\n",
    "sample2 = day_session2['Session']\n",
    "stat_tests(sample1, sample2)"
   ]
  },
  {
   "cell_type": "markdown",
   "id": "38bbc80d",
   "metadata": {},
   "source": [
    "### Ситуация такая же, как и с мощью отряда: p-value во всех тестах равно 0, это свидетельствует о том, что существует статистически значимое различие между распределениями, средними и дисперсиями в двух выборках"
   ]
  },
  {
   "cell_type": "markdown",
   "id": "2e9821ce",
   "metadata": {},
   "source": [
    "# Главное здание и уровень игрока"
   ]
  },
  {
   "cell_type": "code",
   "execution_count": null,
   "id": "9bb24c07",
   "metadata": {
    "scrolled": false
   },
   "outputs": [],
   "source": [
    "df.groupby('Player Level')['Stronghold Level'].max()"
   ]
  },
  {
   "cell_type": "code",
   "execution_count": null,
   "id": "afab098d",
   "metadata": {},
   "outputs": [],
   "source": [
    "# Платящий игрок\n",
    "lineplot_playerlvl_strongholdlvl = df.groupby('Player Level')['Stronghold Level'].max()\n",
    "sns.lineplot(data = lineplot_playerlvl_strongholdlvl, x = lineplot_playerlvl_strongholdlvl.index,\n",
    "            y = lineplot_playerlvl_strongholdlvl.values, size = 5)\n",
    "plt.title('Рост уровня главного здания с уровнем игрока')\n",
    "plt.ylabel('Уровень главного здания')\n",
    "plt.xlabel('Уровень игрока')\n",
    "\n",
    "# НЕплатящий игрок\n",
    "lineplot_playerlvl_strongholdlvl2 = df_non_paying.groupby('Player Level')['Stronghold Level'].max()\n",
    "sns.lineplot(data = lineplot_playerlvl_strongholdlvl2, x = lineplot_playerlvl_strongholdlvl2.index,\n",
    "            y = lineplot_playerlvl_strongholdlvl2.values, size = 5)\n",
    "\n",
    "plt.legend(['Платящий', '', 'НЕплатящий'])"
   ]
  },
  {
   "cell_type": "markdown",
   "id": "05542939",
   "metadata": {},
   "source": [
    "# Количество героев разного уровня с уровнем игрока"
   ]
  },
  {
   "cell_type": "code",
   "execution_count": null,
   "id": "e6473e00",
   "metadata": {
    "scrolled": true
   },
   "outputs": [],
   "source": [
    "# Платящий игрок\n",
    "pvt_player_level_x_hero_level = pd.pivot_table(data = df, index = 'Player Level', columns = 'Level', values = 'Name',\n",
    "                                               aggfunc = 'count', fill_value = 0)\n",
    "pvt_player_level_x_hero_level"
   ]
  },
  {
   "cell_type": "code",
   "execution_count": null,
   "id": "bf124ff8",
   "metadata": {
    "scrolled": true
   },
   "outputs": [],
   "source": [
    "# НЕплатящий игрок\n",
    "pvt_player_level_x_hero_level2 = pd.pivot_table(data = df_non_paying, index = 'Player Level', columns = 'Level', values = 'Name',\n",
    "                                               aggfunc = 'count', fill_value = 0)\n",
    "pvt_player_level_x_hero_level2"
   ]
  },
  {
   "cell_type": "code",
   "execution_count": null,
   "id": "ea197858",
   "metadata": {},
   "outputs": [],
   "source": [
    "# Убираю нулевые значения из сводной таблицы, чтобы они не отображались на тепловой карте\n",
    "pvt_player_level_x_hero_level[pvt_player_level_x_hero_level == 0] = np.nan\n",
    "pvt_player_level_x_hero_level2[pvt_player_level_x_hero_level2 == 0] = np.nan\n",
    "\n",
    "fig = plt.figure(figsize = (40,15))\n",
    "\n",
    "#Платящий игрок\n",
    "ax1 = fig.add_subplot(221)\n",
    "sns.heatmap(data = pvt_player_level_x_hero_level, cmap = 'flare', ax = ax1)\n",
    "ax1.set_title('Количество героев разных уровней на каждом уровне игрока \\n\\n Платящий игрок', fontweight = 'bold')\n",
    "ax1.set_xlabel('Уровень героев')\n",
    "ax1.set_ylabel('Уровень игрока')\n",
    "\n",
    "\n",
    "#НЕплатящий игрок\n",
    "ax2 = fig.add_subplot(223)\n",
    "sns.heatmap(data = pvt_player_level_x_hero_level2, cmap = 'flare', ax = ax2)\n",
    "ax2.set_title('НЕплатящий игрок', fontweight = 'bold')\n",
    "ax2.set_xlabel('Уровень героев')\n",
    "ax2.set_ylabel('Уровень игрока')\n",
    "plt.show()"
   ]
  },
  {
   "cell_type": "markdown",
   "id": "d99c0309",
   "metadata": {},
   "source": [
    "### Интересно заметить, что у неплатящего игрока уже на 7 и 8 уровне появились герои максимального уровня, когда у платящего они начали появляться только с 18 уровня"
   ]
  },
  {
   "cell_type": "markdown",
   "id": "e76d56d2",
   "metadata": {},
   "source": [
    "# Количество героев разной редкости"
   ]
  },
  {
   "cell_type": "code",
   "execution_count": null,
   "id": "5a01ebbb",
   "metadata": {
    "scrolled": true
   },
   "outputs": [],
   "source": [
    "pvt_player_level_x_hero_rarity = pd.pivot_table(data = df, index = 'Player Level', columns = 'Rarity', values = 'Name',\n",
    "                                               aggfunc = 'count', fill_value = 0)\n",
    "pvt_player_level_x_hero_rarity"
   ]
  },
  {
   "cell_type": "code",
   "execution_count": null,
   "id": "ee3bfefd",
   "metadata": {},
   "outputs": [],
   "source": [
    "# Платящий игрок\n",
    "sns.lineplot(data = pvt_player_level_x_hero_rarity)\n",
    "plt.title('Количество героев разной редкости с уровнем платящего игрока', fontweight = 'bold')\n",
    "plt.ylabel('Количество героев')\n",
    "plt.xlabel('Уровень игрока')"
   ]
  },
  {
   "cell_type": "markdown",
   "id": "db4176bb",
   "metadata": {},
   "source": [
    "## Резкий спад всех героев всех редкостей, приближаясь к 19 уровню? Ради улучшения самых редких?\n",
    "## Интересно заметить, что в какие-то моменты героев 3 редкости равно или больше числу героев 2 редкости, как на 1 уровне, 8, 11 и 17"
   ]
  },
  {
   "cell_type": "code",
   "execution_count": null,
   "id": "ff6b0a89",
   "metadata": {},
   "outputs": [],
   "source": [
    "pvt_player_level_x_hero_rarity2 = pd.pivot_table(data = df_non_paying, index = 'Player Level', columns = 'Rarity', values = 'Name',\n",
    "                                               aggfunc = 'count', fill_value = 0)\n",
    "pvt_player_level_x_hero_rarity2"
   ]
  },
  {
   "cell_type": "code",
   "execution_count": null,
   "id": "7079d882",
   "metadata": {},
   "outputs": [],
   "source": [
    "# НЕплатящий игрок\n",
    "sns.lineplot(data = pvt_player_level_x_hero_rarity2)\n",
    "plt.title('Количество героев разной редкости с уровнем НЕплатящего игрока', fontweight = 'bold')\n",
    "plt.ylabel('Количество героев')\n",
    "plt.xlabel('Уровень игрока')"
   ]
  },
  {
   "cell_type": "markdown",
   "id": "c9809b14",
   "metadata": {},
   "source": [
    "### Вполне очевидная картина, что у неплатящего игрока преимущественно герои малой редкости"
   ]
  },
  {
   "cell_type": "markdown",
   "id": "18eec023",
   "metadata": {},
   "source": [
    "# Как заработаны гемы"
   ]
  },
  {
   "cell_type": "code",
   "execution_count": null,
   "id": "6e916bfd",
   "metadata": {},
   "outputs": [],
   "source": [
    "# Платящий игрок\n",
    "barplot_tag_gems = df.loc[df['Gems+'] > 0].groupby('Tag')['Gems+'].sum()\n",
    "barplot_tag_gems"
   ]
  },
  {
   "cell_type": "code",
   "execution_count": null,
   "id": "8730e0e8",
   "metadata": {
    "scrolled": true
   },
   "outputs": [],
   "source": [
    "# НЕплатящий игрок\n",
    "barplot_tag_gems2 = df_non_paying.loc[df_non_paying['Gems+'] > 0].groupby('Tag')['Gems+'].sum()\n",
    "barplot_tag_gems2"
   ]
  },
  {
   "cell_type": "code",
   "execution_count": null,
   "id": "11fab5d2",
   "metadata": {
    "scrolled": false
   },
   "outputs": [],
   "source": [
    "fig = plt.figure(figsize = (20,15))\n",
    "\n",
    "#Платящий игрок\n",
    "ax1 = fig.add_subplot(221)\n",
    "barplot_tag_gems.sort_values().plot(kind = 'barh', color = ['g', 'b', 'r'], ax = ax1)\n",
    "ax1.set_title('Количество гемов заработанных разными способами \\n\\n Платящий игрок', fontweight = 'bold')\n",
    "ax1.set_xlabel('Количество гемов')\n",
    "ax1.set_ylabel('Активность')\n",
    "\n",
    "\n",
    "#НЕплатящий игрок\n",
    "ax2 = fig.add_subplot(223)\n",
    "barplot_tag_gems2.sort_values().plot(kind = 'barh', color = ['g', 'b', 'r', 'purple', 'orange', 'pink'], ax = ax2)\n",
    "ax2.set_title('НЕплатящий игрок', fontweight = 'bold')\n",
    "ax2.set_xlabel('Количество гемов')\n",
    "ax2.set_ylabel('Активность')\n"
   ]
  },
  {
   "cell_type": "markdown",
   "id": "6ca67354",
   "metadata": {},
   "source": [
    "### Если неплатящий игрок преимущественно получает гемы за миссии, достижения?, обустройство базы и другие активности, то платящий игрок за покупаемые паки, боевой пропуск? и ВИП награды"
   ]
  },
  {
   "cell_type": "code",
   "execution_count": null,
   "id": "4a4d1434",
   "metadata": {},
   "outputs": [],
   "source": [
    "lineplot_day_gems_balance = df[['Day', 'Gems Balance']].drop_duplicates()"
   ]
  },
  {
   "cell_type": "code",
   "execution_count": null,
   "id": "d4a6aa69",
   "metadata": {},
   "outputs": [],
   "source": [
    "lineplot_day_gems_balance2 = df_non_paying[['Day', 'Gems Balance']].drop_duplicates()"
   ]
  },
  {
   "cell_type": "code",
   "execution_count": null,
   "id": "210ee330",
   "metadata": {},
   "outputs": [],
   "source": [
    "fig = plt.figure(figsize = (15,10))\n",
    "\n",
    "#Платящий игрок\n",
    "ax1 = fig.add_subplot(221)\n",
    "sns.lineplot(data = lineplot_day_gems_balance, x = 'Day', y = 'Gems Balance', color = 'g', ax = ax1)\n",
    "ax1.set_title('График баланса гемов на протяжении 14 дней \\n\\n Платящий игрок', fontweight = 'bold')\n",
    "ax1.set_xlabel('')\n",
    "ax1.set_ylabel('Баланс')\n",
    "\n",
    "\n",
    "#НЕплатящий игрок\n",
    "ax2 = fig.add_subplot(223)\n",
    "sns.lineplot(data = lineplot_day_gems_balance2, x = 'Day', y = 'Gems Balance', color = 'orange', ax = ax2)\n",
    "ax2.set_title('НЕплатящий игрок', fontweight = 'bold')\n",
    "ax2.set_xlabel('')\n",
    "ax2.set_ylabel('Баланс')\n"
   ]
  },
  {
   "cell_type": "code",
   "execution_count": null,
   "id": "1a525d2b",
   "metadata": {},
   "outputs": [],
   "source": [
    "day_gems_balance = df[['Day', 'Gems Balance']]\n",
    "day_gems_balance2 = df_non_paying[['Day', 'Gems Balance']]\n",
    "\n",
    "fig = plt.figure(figsize = (10,6))\n",
    "\n",
    "ax1 = fig.add_subplot(221)\n",
    "day_gems_balance['Gems Balance'].hist(ax = ax1)\n",
    "\n",
    "ax2 = fig.add_subplot(222)\n",
    "day_gems_balance2['Gems Balance'].hist(ax = ax2)"
   ]
  },
  {
   "cell_type": "code",
   "execution_count": null,
   "id": "ac8a2456",
   "metadata": {
    "scrolled": true
   },
   "outputs": [],
   "source": [
    "# Проверка на нормальность распределения\n",
    "p_value = shapiro(day_gems_balance['Gems Balance'])\n",
    "p_value2 = shapiro(day_gems_balance2['Gems Balance'])\n",
    "print(p_value,'\\n', p_value2)\n",
    "# p-value = 0, распределение ненормально"
   ]
  },
  {
   "cell_type": "code",
   "execution_count": null,
   "id": "e0024bf1",
   "metadata": {},
   "outputs": [],
   "source": [
    "sample1 = day_gems_balance['Gems Balance']\n",
    "sample2 = day_gems_balance2['Gems Balance']\n",
    "stat_tests(sample1, sample2)"
   ]
  },
  {
   "cell_type": "markdown",
   "id": "c35fe861",
   "metadata": {},
   "source": [
    "### Ситуация такая же, как и с предыдущими тестами: p-value во всех тестах равно 0, это свидетельствует о том, что существует статистически значимое различие между распределениями, средними и дисперсиями в двух выборках"
   ]
  },
  {
   "cell_type": "markdown",
   "id": "0b809175",
   "metadata": {},
   "source": [
    "# На что платящий игрок тратил деньги"
   ]
  },
  {
   "cell_type": "code",
   "execution_count": null,
   "id": "bebc1b56",
   "metadata": {
    "scrolled": false
   },
   "outputs": [],
   "source": [
    "df.loc[df['Tag'] == 'Purchase'].groupby('Action')['Tag'].count()"
   ]
  },
  {
   "cell_type": "markdown",
   "id": "bb75e3d2",
   "metadata": {},
   "source": [
    "## 2 разных Pop-up?"
   ]
  },
  {
   "cell_type": "code",
   "execution_count": null,
   "id": "34324795",
   "metadata": {},
   "outputs": [],
   "source": [
    "df['Action'].replace('Pop-up', 'Pop-Up', inplace = True)\n",
    "# Корректирую в 1 Pop-Up, чтобы не портить статистику. Остальное корректно"
   ]
  },
  {
   "cell_type": "code",
   "execution_count": null,
   "id": "4bdff0ca",
   "metadata": {
    "scrolled": true
   },
   "outputs": [],
   "source": [
    "barplot_purchase_action = df.loc[df['Tag'] == 'Purchase'].groupby('Action')['Tag'].count()\n",
    "barplot_purchase_action"
   ]
  },
  {
   "cell_type": "code",
   "execution_count": null,
   "id": "09059762",
   "metadata": {
    "scrolled": true
   },
   "outputs": [],
   "source": [
    "barplot_purchase_action = barplot_purchase_action.reset_index()\n",
    "barplot_purchase_action"
   ]
  },
  {
   "cell_type": "code",
   "execution_count": null,
   "id": "29bee69a",
   "metadata": {},
   "outputs": [],
   "source": [
    "barplot_purchase_action.sort_values(by = 'Tag', ascending = False, inplace = True)\n",
    "plt.figure(figsize = (12,6))\n",
    "sns.barplot(data = barplot_purchase_action, x = 'Tag', y = 'Action', orient = 'h')\n",
    "plt.title('На что чаще всего игрок тратил деньги')\n",
    "plt.ylabel('Акция')\n",
    "plt.xlabel('Количество раз')"
   ]
  },
  {
   "cell_type": "markdown",
   "id": "6db37c0f",
   "metadata": {},
   "source": [
    "## Чаще всего игрок тратил деньги на покупку новых героев, всплываемые акции и 10000 гемов \n",
    "\n",
    "# Теперь узнаем, на что тратились приобретенные гемы"
   ]
  },
  {
   "cell_type": "code",
   "execution_count": null,
   "id": "22c13682",
   "metadata": {},
   "outputs": [],
   "source": [
    "scatterplot_gems_tag_action = df.loc[df['Gems-'] < 0].groupby(by = ['Tag', 'Action'])['Action'].count()"
   ]
  },
  {
   "cell_type": "code",
   "execution_count": null,
   "id": "3f5cb07c",
   "metadata": {},
   "outputs": [],
   "source": [
    "scatterplot_gems_tag_action2 = df_non_paying.loc[df_non_paying['Gems-'] < 0].groupby(by = ['Tag', 'Action'])['Action'].count()"
   ]
  },
  {
   "cell_type": "code",
   "execution_count": null,
   "id": "aec2c8b9",
   "metadata": {
    "scrolled": true
   },
   "outputs": [],
   "source": [
    "#Платящий игрок\n",
    "scatterplot_gems_tag_action = scatterplot_gems_tag_action.reset_index(0)\n",
    "scatterplot_gems_tag_action"
   ]
  },
  {
   "cell_type": "code",
   "execution_count": null,
   "id": "64ffd5f2",
   "metadata": {},
   "outputs": [],
   "source": [
    "# НЕплатящий игрок\n",
    "scatterplot_gems_tag_action2 = scatterplot_gems_tag_action2.reset_index(0)\n",
    "scatterplot_gems_tag_action2"
   ]
  },
  {
   "cell_type": "code",
   "execution_count": null,
   "id": "981eea11",
   "metadata": {},
   "outputs": [],
   "source": [
    "fig = plt.figure(figsize = (30,15))\n",
    "\n",
    "#Платящий игрок\n",
    "ax1 = fig.add_subplot(221)\n",
    "sns.scatterplot(data = scatterplot_gems_tag_action, x = 'Tag', y = 'Action', hue = 'Action', size = 'Action', legend = '')\n",
    "ax1.set_title('На что игрок чаще всего тратит гемы \\n\\n Платящий игрок', fontweight = 'bold')\n",
    "ax1.set_xlabel('')\n",
    "ax1.set_ylabel('')\n",
    "\n",
    "\n",
    "#НЕплатящий игрок\n",
    "ax2 = fig.add_subplot(223)\n",
    "sns.scatterplot(data = scatterplot_gems_tag_action2, x = 'Tag', y = 'Action', hue = 'Action', size = 'Action', legend = '')\n",
    "ax2.set_title('Платящий игрок', fontweight = 'bold')\n",
    "ax2.set_xlabel('')\n",
    "ax2.set_ylabel('')"
   ]
  },
  {
   "cell_type": "markdown",
   "id": "91877898",
   "metadata": {},
   "source": [
    "### Примечательно, что оба игрока предпочитают тратить свои гемы на ускорение тренировки. Неплатящий игрок не способен потратить гемы на большое количество активностей, кроме как на покупку недостающих ресурсов, ускорение построек и изредка на призывы героев.\n",
    "### В это же время платящий игрок, помимо ускорения тренировок, более 30 раз тратил гемы на ускорение построек и покупку недостающей пищи и менее, но заметно, железа"
   ]
  },
  {
   "cell_type": "markdown",
   "id": "53938f08",
   "metadata": {},
   "source": [
    "# Сколько игроки получали гемов ежедневно"
   ]
  },
  {
   "cell_type": "code",
   "execution_count": null,
   "id": "3d766313",
   "metadata": {
    "scrolled": true
   },
   "outputs": [],
   "source": [
    "df[['Day', 'Gems+']].loc[(df['Gems+']>0) & (df['Day']== 1)]"
   ]
  },
  {
   "cell_type": "code",
   "execution_count": null,
   "id": "64ad2ddb",
   "metadata": {},
   "outputs": [],
   "source": [
    "barplot_day_gems = df.groupby('Day')['Gems+'].sum().reset_index()\n",
    "barplot_day_gems2 = df_non_paying.groupby('Day')['Gems+'].sum().reset_index()"
   ]
  },
  {
   "cell_type": "code",
   "execution_count": null,
   "id": "cd45d2c4",
   "metadata": {
    "scrolled": true
   },
   "outputs": [],
   "source": [
    "barplot_day_gems"
   ]
  },
  {
   "cell_type": "code",
   "execution_count": null,
   "id": "db6be2f5",
   "metadata": {
    "scrolled": true
   },
   "outputs": [],
   "source": [
    "barplot_day_gems2"
   ]
  },
  {
   "cell_type": "code",
   "execution_count": null,
   "id": "1a630fa4",
   "metadata": {},
   "outputs": [],
   "source": [
    "fig = plt.figure(figsize = (30,15))\n",
    "\n",
    "#Платящий игрок\n",
    "ax1 = fig.add_subplot(221)\n",
    "sns.barplot(data = barplot_day_gems, x = 'Day', y = 'Gems+', ax = ax1)\n",
    "ax1.set_title('Сколько гемов приобретал игрок каждый день (включая внутриигровые активности \\n\\n Платящий игрок',\n",
    "              fontweight = 'bold')\n",
    "for i in ax1.containers:\n",
    "    ax1.bar_label(i,)\n",
    "ax1.set_xlabel('День')\n",
    "ax1.set_ylabel('Количество гемов')\n",
    "\n",
    "\n",
    "#НЕплатящий игрок\n",
    "ax2 = fig.add_subplot(223)\n",
    "sns.barplot(data = barplot_day_gems2, x = 'Day', y = 'Gems+', ax = ax2)\n",
    "ax2.set_title('Неплатящий игрок',\n",
    "              fontweight = 'bold')\n",
    "for i in ax2.containers:\n",
    "    ax2.bar_label(i,)\n",
    "ax2.set_xlabel('День')\n",
    "ax2.set_ylabel('Количество гемов')"
   ]
  },
  {
   "cell_type": "markdown",
   "id": "0fae04ea",
   "metadata": {},
   "source": [
    "### Самый пик у платящего игрока по приобретению гемов был на 10 день\n",
    "### Стоить обратить внимание, что на 6, 9, 12 и 14 дни платящий игрок не приобретал отдельно гемы или не покупал бадлы, в которых так же находились гемы\n",
    "### Неплатящий же игрок наибольшее количество гемов получил в 1 день и далее за внутриигровые активности"
   ]
  },
  {
   "cell_type": "code",
   "execution_count": null,
   "id": "56cd875b",
   "metadata": {},
   "outputs": [],
   "source": [
    "print(df[['Day', 'Gems+']].isnull().sum())\n",
    "print(df_non_paying[['Day', 'Gems+']].isnull().sum())"
   ]
  },
  {
   "cell_type": "code",
   "execution_count": null,
   "id": "30e2095d",
   "metadata": {},
   "outputs": [],
   "source": [
    "day_gems_plus = df[['Day', 'Gems+']].drop_duplicates()\n",
    "day_gems_plus2 = df_non_paying[['Day', 'Gems+']].drop_duplicates()\n",
    "\n",
    "fig = plt.figure(figsize = (10,6))\n",
    "\n",
    "ax1 = fig.add_subplot(221)\n",
    "day_gems_plus['Gems+'].hist(ax = ax1)\n",
    "\n",
    "ax2 = fig.add_subplot(222)\n",
    "day_gems_plus2['Gems+'].hist(ax = ax2)"
   ]
  },
  {
   "cell_type": "code",
   "execution_count": null,
   "id": "2c7bc390",
   "metadata": {
    "scrolled": false
   },
   "outputs": [],
   "source": [
    "# Проверка на нормальность распределения\n",
    "p_value = shapiro(day_gems_plus['Gems+'])\n",
    "p_value2 = shapiro(day_gems_plus2['Gems+'])\n",
    "print(p_value,'\\n', p_value2)\n",
    "# p-value < 0.05, распределение ненормально"
   ]
  },
  {
   "cell_type": "code",
   "execution_count": null,
   "id": "3c7dc132",
   "metadata": {},
   "outputs": [],
   "source": [
    "sample1 = day_gems_plus['Gems+']\n",
    "sample2 = day_gems_plus2['Gems+']\n",
    "stat_tests(sample1, sample2)"
   ]
  },
  {
   "cell_type": "markdown",
   "id": "14661856",
   "metadata": {},
   "source": [
    "### Ситуация похожа: p-value не во всех тестах равен 0, но меньше 0.05, значит мы отвергаем нулевую гипотезу о равенстве средних, равенстве рангов, равенстве дисперсий. Это свидетельствует о том, что существует статистически значимое различие между распределениями, средними и дисперсиями в двух выборках"
   ]
  }
 ],
 "metadata": {
  "kernelspec": {
   "display_name": "Python 3 (ipykernel)",
   "language": "python",
   "name": "python3"
  },
  "language_info": {
   "codemirror_mode": {
    "name": "ipython",
    "version": 3
   },
   "file_extension": ".py",
   "mimetype": "text/x-python",
   "name": "python",
   "nbconvert_exporter": "python",
   "pygments_lexer": "ipython3",
   "version": "3.10.9"
  }
 },
 "nbformat": 4,
 "nbformat_minor": 5
}
